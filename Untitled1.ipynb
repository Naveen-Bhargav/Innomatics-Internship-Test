{
 "cells": [
  {
   "cell_type": "code",
   "execution_count": 1,
   "id": "e5d4e2ed",
   "metadata": {},
   "outputs": [
    {
     "ename": "NameError",
     "evalue": "name 'scrapper' is not defined",
     "output_type": "error",
     "traceback": [
      "\u001b[1;31m---------------------------------------------------------------------------\u001b[0m",
      "\u001b[1;31mNameError\u001b[0m                                 Traceback (most recent call last)",
      "Cell \u001b[1;32mIn[1], line 19\u001b[0m\n\u001b[0;32m     16\u001b[0m movies_with_links \u001b[38;5;241m=\u001b[39m pd\u001b[38;5;241m.\u001b[39mmerge(joined_df, links_df, on\u001b[38;5;241m=\u001b[39m\u001b[38;5;124m'\u001b[39m\u001b[38;5;124mmovieId\u001b[39m\u001b[38;5;124m'\u001b[39m, how\u001b[38;5;241m=\u001b[39m\u001b[38;5;124m'\u001b[39m\u001b[38;5;124minner\u001b[39m\u001b[38;5;124m'\u001b[39m)\n\u001b[0;32m     18\u001b[0m \u001b[38;5;66;03m# Scrape IMDb ratings for each movie\u001b[39;00m\n\u001b[1;32m---> 19\u001b[0m movies_with_links[\u001b[38;5;124m'\u001b[39m\u001b[38;5;124mimdb_rating\u001b[39m\u001b[38;5;124m'\u001b[39m] \u001b[38;5;241m=\u001b[39m movies_with_links[\u001b[38;5;124m'\u001b[39m\u001b[38;5;124mimdbId\u001b[39m\u001b[38;5;124m'\u001b[39m]\u001b[38;5;241m.\u001b[39mapply(scrapper)\n\u001b[0;32m     21\u001b[0m \u001b[38;5;66;03m# Convert 'imdb_rating' column to numeric (float)\u001b[39;00m\n\u001b[0;32m     22\u001b[0m movies_with_links[\u001b[38;5;124m'\u001b[39m\u001b[38;5;124mimdb_rating\u001b[39m\u001b[38;5;124m'\u001b[39m] \u001b[38;5;241m=\u001b[39m pd\u001b[38;5;241m.\u001b[39mto_numeric(movies_with_links[\u001b[38;5;124m'\u001b[39m\u001b[38;5;124mimdb_rating\u001b[39m\u001b[38;5;124m'\u001b[39m], errors\u001b[38;5;241m=\u001b[39m\u001b[38;5;124m'\u001b[39m\u001b[38;5;124mcoerce\u001b[39m\u001b[38;5;124m'\u001b[39m)\n",
      "\u001b[1;31mNameError\u001b[0m: name 'scrapper' is not defined"
     ]
    }
   ],
   "source": [
    "import pandas as pd\n",
    "\n",
    "# Load the CSV files into pandas dataframes\n",
    "ratings_df = pd.read_csv('ratings.csv')\n",
    "movies_df = pd.read_csv('movies.csv')\n",
    "links_df = pd.read_csv('links.csv')\n",
    "\n",
    "# Group the user ratings based on movieId and apply aggregation operations like count and mean on ratings\n",
    "ratings_grouped = ratings_df.groupby('movieId').agg({'rating': ['count', 'mean']})\n",
    "ratings_grouped.columns = ratings_grouped.columns.map('_'.join)\n",
    "\n",
    "# Apply inner join on dataframe created from movies.csv and the grouped df from step 1\n",
    "joined_df = pd.merge(movies_df, ratings_grouped, left_on='movieId', right_index=True, how='inner')\n",
    "\n",
    "# Merge with links dataframe to get IMDB IDs\n",
    "movies_with_links = pd.merge(joined_df, links_df, on='movieId', how='inner')\n",
    "\n",
    "# Scrape IMDb ratings for each movie\n",
    "movies_with_links['imdb_rating'] = movies_with_links['imdbId'].apply(scrapper)\n",
    "\n",
    "# Convert 'imdb_rating' column to numeric (float)\n",
    "movies_with_links['imdb_rating'] = pd.to_numeric(movies_with_links['imdb_rating'], errors='coerce')\n",
    "\n",
    "# Find the movieId of the movie with the highest IMDb rating\n",
    "highest_rated_movie_id = movies_with_links.loc[movies_with_links['imdb_rating'].idxmax(), 'movieId']\n",
    "\n",
    "# Print the result\n",
    "print(f\"The movieId of the movie with the highest IMDb rating is: {highest_rated_movie_id}\")\n"
   ]
  },
  {
   "cell_type": "code",
   "execution_count": 2,
   "id": "7a9ffc48",
   "metadata": {},
   "outputs": [],
   "source": [
    "import pandas as pd\n",
    "\n",
    "ratings_df = pd.read_csv('ratings.csv')\n",
    "movies_df = pd.read_csv('movies.csv')\n",
    "links_df = pd.read_csv('links.csv')\n"
   ]
  },
  {
   "cell_type": "code",
   "execution_count": 3,
   "id": "42acb7be",
   "metadata": {},
   "outputs": [],
   "source": [
    "ratings_grouped = ratings_df.groupby('movieId').agg({'rating': ['count', 'mean']})\n",
    "ratings_grouped.columns = ratings_grouped.columns.map('_'.join)\n"
   ]
  },
  {
   "cell_type": "code",
   "execution_count": 4,
   "id": "cf078a44",
   "metadata": {},
   "outputs": [],
   "source": [
    "joined_df = pd.merge(movies_df, ratings_grouped, left_on='movieId', right_index=True, how='inner')\n"
   ]
  },
  {
   "cell_type": "code",
   "execution_count": 5,
   "id": "832159c8",
   "metadata": {},
   "outputs": [],
   "source": [
    "popular_movies = joined_df[joined_df['rating_count'] > 50]\n"
   ]
  },
  {
   "cell_type": "code",
   "execution_count": 6,
   "id": "0f8d124a",
   "metadata": {},
   "outputs": [
    {
     "ename": "IndentationError",
     "evalue": "expected an indented block after function definition on line 1 (1928061529.py, line 5)",
     "output_type": "error",
     "traceback": [
      "\u001b[1;36m  Cell \u001b[1;32mIn[6], line 5\u001b[1;36m\u001b[0m\n\u001b[1;33m    movies_with_links = pd.merge(popular_movies, links_df, on='movieId', how='inner')\u001b[0m\n\u001b[1;37m    ^\u001b[0m\n\u001b[1;31mIndentationError\u001b[0m\u001b[1;31m:\u001b[0m expected an indented block after function definition on line 1\n"
     ]
    }
   ],
   "source": [
    "def scrapper(imdbId):\n",
    "    # Include the 'scrapper' function code here as provided in the previous response\n",
    "\n",
    "# Merge with links dataframe to get IMDB IDs\n",
    "movies_with_links = pd.merge(popular_movies, links_df, on='movieId', how='inner')\n",
    "\n",
    "# Scrape IMDb reviews for each movie\n",
    "movies_with_links['imdb_reviews'] = movies_with_links['imdbId'].apply(scrapper)\n"
   ]
  },
  {
   "cell_type": "code",
   "execution_count": null,
   "id": "8df30c6c",
   "metadata": {},
   "outputs": [],
   "source": [
    "import pandas as pd\n",
    "import requests\n",
    "from bs4 import BeautifulSoup\n",
    "import numpy as np\n",
    "\n",
    "# Define the 'scrapper' function\n",
    "def scrapper(imdbId):\n",
    "    id = str(int(imdbId))\n",
    "    n_zeroes = 7 - len(id)\n",
    "    new_id = \"0\" * n_zeroes + id\n",
    "    URL = f\"https://www.imdb.com/title/tt{new_id}/\"\n",
    "    request_header = {\n",
    "        'Content-Type': 'text/html; charset=UTF-8',\n",
    "        'User-Agent': 'Mozilla/5.0 (Windows NT 10.0; Win64; x64; rv:109.0) Gecko/20100101 Firefox/119.0',\n",
    "        'Accept-Encoding': 'gzip, deflate, br'\n",
    "    }\n",
    "    \n",
    "    response = requests.get(URL, headers=request_header)\n",
    "    \n",
    "    if response.status_code == 200:\n",
    "        soup = BeautifulSoup(response.text, 'html.parser')\n",
    "        reviews = soup.find_all('div', class_='text show-more__control')\n",
    "        return [review.text.strip() for review in reviews]\n",
    "    else:\n",
    "        print(f\"Failed to retrieve reviews for movie with IMDb ID {imdbId}. Status Code: {response.status_code}\")\n",
    "        return np.nan\n",
    "\n",
    "# Assuming you already have 'popular_movies' and 'links_df' dataframes\n",
    "\n",
    "# Merge with links dataframe to get IMDB IDs\n",
    "movies_with_links = pd.merge(popular_movies, links_df, on='movieId', how='inner')\n",
    "\n",
    "# Scrape IMDb reviews for each movie\n",
    "movies_with_links['imdb_reviews'] = movies_with_links['imdbId'].apply(scrapper)\n",
    "\n",
    "# Print or save the resulting dataframe\n",
    "print(movies_with_links[['movieId', 'title', 'imdb_reviews']])\n"
   ]
  },
  {
   "cell_type": "code",
   "execution_count": null,
   "id": "cee77c24",
   "metadata": {},
   "outputs": [],
   "source": [
    "# Convert 'imdb_rating' column to numeric (float)\n",
    "movies_with_links['imdb_rating'] = pd.to_numeric(movies_with_links['imdb_rating'], errors='coerce')\n",
    "\n",
    "# Find the movieId of the movie with the highest IMDb rating\n",
    "highest_rated_movie_id = movies_with_links.loc[movies_with_links['imdb_rating'].idxmax(), 'movieId']\n"
   ]
  },
  {
   "cell_type": "code",
   "execution_count": null,
   "id": "631809cf",
   "metadata": {},
   "outputs": [],
   "source": [
    "print(f\"The movieId of the movie with the highest IMDb rating is: {highest_rated_movie_id}\")\n"
   ]
  },
  {
   "cell_type": "code",
   "execution_count": null,
   "id": "d73434a0",
   "metadata": {},
   "outputs": [],
   "source": []
  }
 ],
 "metadata": {
  "kernelspec": {
   "display_name": "Python 3 (ipykernel)",
   "language": "python",
   "name": "python3"
  },
  "language_info": {
   "codemirror_mode": {
    "name": "ipython",
    "version": 3
   },
   "file_extension": ".py",
   "mimetype": "text/x-python",
   "name": "python",
   "nbconvert_exporter": "python",
   "pygments_lexer": "ipython3",
   "version": "3.11.5"
  }
 },
 "nbformat": 4,
 "nbformat_minor": 5
}
