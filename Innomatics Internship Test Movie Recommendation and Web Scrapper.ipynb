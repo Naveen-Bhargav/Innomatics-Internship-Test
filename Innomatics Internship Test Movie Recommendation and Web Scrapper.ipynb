{
 "cells": [
  {
   "cell_type": "code",
   "execution_count": 1,
   "id": "c35b8b08",
   "metadata": {},
   "outputs": [],
   "source": [
    "import numpy as np\n",
    "import pandas as pd\n",
    "import difflib\n",
    "from sklearn.feature_extraction.text import TfidfVectorizer\n",
    "from sklearn.metrics.pairwise import cosine_similarity"
   ]
  },
  {
   "cell_type": "code",
   "execution_count": 2,
   "id": "9089b5c9",
   "metadata": {},
   "outputs": [],
   "source": [
    "movies_data=pd.read_csv('movies.csv')"
   ]
  },
  {
   "cell_type": "code",
   "execution_count": 3,
   "id": "72f4e1d4",
   "metadata": {},
   "outputs": [
    {
     "data": {
      "text/plain": [
       "(9742, 3)"
      ]
     },
     "execution_count": 3,
     "metadata": {},
     "output_type": "execute_result"
    }
   ],
   "source": [
    "movies_data.shape"
   ]
  },
  {
   "cell_type": "code",
   "execution_count": 4,
   "id": "0727c652",
   "metadata": {},
   "outputs": [],
   "source": [
    "ratings_data = pd.read_csv('ratings.csv')"
   ]
  },
  {
   "cell_type": "code",
   "execution_count": 5,
   "id": "656b9263",
   "metadata": {},
   "outputs": [
    {
     "data": {
      "text/plain": [
       "(100836, 4)"
      ]
     },
     "execution_count": 5,
     "metadata": {},
     "output_type": "execute_result"
    }
   ],
   "source": [
    "ratings_data.shape"
   ]
  },
  {
   "cell_type": "code",
   "execution_count": 6,
   "id": "a307b2ab",
   "metadata": {},
   "outputs": [
    {
     "name": "stdout",
     "output_type": "stream",
     "text": [
      "There are 610 unique user IDs in ratings.csv.\n"
     ]
    }
   ],
   "source": [
    "df = pd.read_csv('ratings.csv')\n",
    "\n",
    "# Count the number of unique user IDs\n",
    "unique_users = len(df['userId'].unique())\n",
    "\n",
    "# Print the result\n",
    "print(f\"There are {unique_users} unique user IDs in ratings.csv.\")"
   ]
  },
  {
   "cell_type": "code",
   "execution_count": 7,
   "id": "aa8aa2a0",
   "metadata": {},
   "outputs": [
    {
     "data": {
      "text/html": [
       "<div>\n",
       "<style scoped>\n",
       "    .dataframe tbody tr th:only-of-type {\n",
       "        vertical-align: middle;\n",
       "    }\n",
       "\n",
       "    .dataframe tbody tr th {\n",
       "        vertical-align: top;\n",
       "    }\n",
       "\n",
       "    .dataframe thead th {\n",
       "        text-align: right;\n",
       "    }\n",
       "</style>\n",
       "<table border=\"1\" class=\"dataframe\">\n",
       "  <thead>\n",
       "    <tr style=\"text-align: right;\">\n",
       "      <th></th>\n",
       "      <th>userId</th>\n",
       "      <th>movieId</th>\n",
       "      <th>rating</th>\n",
       "      <th>timestamp</th>\n",
       "    </tr>\n",
       "  </thead>\n",
       "  <tbody>\n",
       "    <tr>\n",
       "      <th>0</th>\n",
       "      <td>1</td>\n",
       "      <td>1</td>\n",
       "      <td>4.0</td>\n",
       "      <td>964982703</td>\n",
       "    </tr>\n",
       "    <tr>\n",
       "      <th>1</th>\n",
       "      <td>1</td>\n",
       "      <td>3</td>\n",
       "      <td>4.0</td>\n",
       "      <td>964981247</td>\n",
       "    </tr>\n",
       "    <tr>\n",
       "      <th>2</th>\n",
       "      <td>1</td>\n",
       "      <td>6</td>\n",
       "      <td>4.0</td>\n",
       "      <td>964982224</td>\n",
       "    </tr>\n",
       "    <tr>\n",
       "      <th>3</th>\n",
       "      <td>1</td>\n",
       "      <td>47</td>\n",
       "      <td>5.0</td>\n",
       "      <td>964983815</td>\n",
       "    </tr>\n",
       "    <tr>\n",
       "      <th>4</th>\n",
       "      <td>1</td>\n",
       "      <td>50</td>\n",
       "      <td>5.0</td>\n",
       "      <td>964982931</td>\n",
       "    </tr>\n",
       "  </tbody>\n",
       "</table>\n",
       "</div>"
      ],
      "text/plain": [
       "   userId  movieId  rating  timestamp\n",
       "0       1        1     4.0  964982703\n",
       "1       1        3     4.0  964981247\n",
       "2       1        6     4.0  964982224\n",
       "3       1       47     5.0  964983815\n",
       "4       1       50     5.0  964982931"
      ]
     },
     "execution_count": 7,
     "metadata": {},
     "output_type": "execute_result"
    }
   ],
   "source": [
    "ratings_data.head()"
   ]
  },
  {
   "cell_type": "code",
   "execution_count": 8,
   "id": "b24bfd60",
   "metadata": {},
   "outputs": [
    {
     "name": "stdout",
     "output_type": "stream",
     "text": [
      "The movie ID that has received the maximum number of user ratings is 356.\n"
     ]
    }
   ],
   "source": [
    "# Read the CSV file into a pandas dataframe\n",
    "df = pd.read_csv('ratings.csv')\n",
    "\n",
    "# Find the movie ID with the maximum number of user ratings\n",
    "max_movie_id = df['movieId'].value_counts().idxmax()\n",
    "\n",
    "# Print the result\n",
    "print(f\"The movie ID that has received the maximum number of user ratings is {max_movie_id}.\")"
   ]
  },
  {
   "cell_type": "code",
   "execution_count": 9,
   "id": "9bc74461",
   "metadata": {},
   "outputs": [
    {
     "name": "stdout",
     "output_type": "stream",
     "text": [
      "['martial arts' 'sci-fi' 'alternate universe' 'philosophy'\n",
      " 'post apocalyptic']\n"
     ]
    }
   ],
   "source": [
    "import pandas as pd\n",
    "\n",
    "# Load the CSV files into pandas dataframes\n",
    "tags_df = pd.read_csv('tags.csv')\n",
    "movies_df = pd.read_csv('movies.csv')\n",
    "\n",
    "# Filter the movies dataframe to only include rows where the title is \"Matrix, The (1999)\"\n",
    "matrix_movie = movies_df[movies_df['title'] == 'Matrix, The (1999)']\n",
    "\n",
    "# Merge the tags dataframe with the filtered movies dataframe on the movieId column\n",
    "matrix_tags = pd.merge(tags_df, matrix_movie, on='movieId')\n",
    "\n",
    "# Print out the unique tags that were submitted by users for \"Matrix, The (1999)\"\n",
    "print(matrix_tags['tag'].unique())\n"
   ]
  },
  {
   "cell_type": "code",
   "execution_count": 10,
   "id": "0bb8a7b7",
   "metadata": {},
   "outputs": [
    {
     "name": "stdout",
     "output_type": "stream",
     "text": [
      "The average user rating for 'Terminator 2: Judgment Day (1991)' is **3.97**.\n"
     ]
    }
   ],
   "source": [
    "import pandas as pd\n",
    "\n",
    "# Load the CSV files into pandas dataframes\n",
    "ratings_df = pd.read_csv('ratings.csv')\n",
    "movies_df = pd.read_csv('movies.csv')\n",
    "\n",
    "# Filter the movies dataframe to only include rows where the title is \"Terminator 2: Judgment Day (1991)\"\n",
    "t2_movie = movies_df[movies_df['title'] == 'Terminator 2: Judgment Day (1991)']\n",
    "\n",
    "# Merge the ratings dataframe with the filtered movies dataframe on the movieId column\n",
    "t2_ratings = pd.merge(ratings_df, t2_movie, on='movieId')\n",
    "\n",
    "# Calculate the average user rating for \"Terminator 2: Judgment Day (1991)\"\n",
    "average_rating = t2_ratings['rating'].mean()\n",
    "\n",
    "# Print out the average user rating\n",
    "print(f\"The average user rating for 'Terminator 2: Judgment Day (1991)' is **{average_rating:.2f}**.\")"
   ]
  },
  {
   "cell_type": "code",
   "execution_count": 11,
   "id": "81750eb1",
   "metadata": {},
   "outputs": [
    {
     "data": {
      "image/png": "[encoded data removed]",
      "text/plain": [
       "<Figure size 640x480 with 1 Axes>"
      ]
     },
     "metadata": {},
     "output_type": "display_data"
    }
   ],
   "source": [
    "import pandas as pd\n",
    "import matplotlib.pyplot as plt\n",
    "\n",
    "# Load the CSV files into pandas dataframes\n",
    "ratings_df = pd.read_csv('ratings.csv')\n",
    "movies_df = pd.read_csv('movies.csv')\n",
    "\n",
    "# Filter the movies dataframe to only include rows where the title is \"Fight Club (1999)\"\n",
    "fc_movie = movies_df[movies_df['title'] == 'Fight Club (1999)']\n",
    "\n",
    "# Merge the ratings dataframe with the filtered movies dataframe on the movieId column\n",
    "fc_ratings = pd.merge(ratings_df, fc_movie, on='movieId')\n",
    "\n",
    "# Plot a histogram of the ratings\n",
    "plt.hist(fc_ratings['rating'], bins=10, edgecolor='black')\n",
    "\n",
    "# Add labels and a title to the plot\n",
    "plt.xlabel('Rating')\n",
    "plt.ylabel('Number of Ratings')\n",
    "plt.title('Distribution of User Ratings for \"Fight Club (1999)\"')\n",
    "\n",
    "# Show the plot\n",
    "plt.show()\n"
   ]
  },
  {
   "cell_type": "code",
   "execution_count": 12,
   "id": "1410df12",
   "metadata": {},
   "outputs": [
    {
     "data": {
      "image/png": "[encoded data removed]",
      "text/plain": [
       "<Figure size 640x480 with 1 Axes>"
      ]
     },
     "metadata": {},
     "output_type": "display_data"
    }
   ],
   "source": [
    "import pandas as pd\n",
    "import matplotlib.pyplot as plt\n",
    "\n",
    "# Load the CSV files into pandas dataframes\n",
    "ratings_df = pd.read_csv('ratings.csv')\n",
    "movies_df = pd.read_csv('movies.csv')\n",
    "\n",
    "# Filter the movies dataframe to only include rows where the title is \"Fight Club (1999)\"\n",
    "fc_movie = movies_df[movies_df['title'] == 'Fight Club (1999)']\n",
    "\n",
    "# Merge the ratings dataframe with the filtered movies dataframe on the movieId column\n",
    "fc_ratings = pd.merge(ratings_df, fc_movie, on='movieId')\n",
    "\n",
    "# Plot a histogram of the ratings\n",
    "plt.hist(fc_ratings['rating'], bins=10, edgecolor='black')\n",
    "\n",
    "# Add labels and a title to the plot\n",
    "plt.xlabel('Rating')\n",
    "plt.ylabel('Number of Ratings')\n",
    "plt.title('Distribution of User Ratings for \"Fight Club (1999)\"')\n",
    "\n",
    "# Show the plot\n",
    "plt.show()\n"
   ]
  },
  {
   "cell_type": "raw",
   "id": "b78ae899",
   "metadata": {},
   "source": [
    "In python csv file as \"ratings.csv\", \"movies.csv\", \"tags.csv\" , \"links.csv\" . The 'ratings.csv' it contains columns as \"userId\", \"movieId\", \"rating\", \"timestamp\" and movies.csv\" contains colums as \"movieId\", \"title\", \"genres\". The \"links.csv\" contains columns as \"movieId\", \"imdbid\", \"tmdbid\" and \"tags.csv\" contains colums as \"userId\", \"movieId\", \"tag\", \"timestamp\" . Noe do folloeing operations  1. Group the user ratings based on movieId and apply aggregation operations like count and mean on ratings. \n",
    "2. Apply inner join on dataframe created from movies.csv and the grouped df from step 1.\n",
    "3. Filter only those movies which have more than 50 user ratings (i.e. > 50)."
   ]
  },
  {
   "cell_type": "code",
   "execution_count": 13,
   "id": "496a9e97",
   "metadata": {},
   "outputs": [
    {
     "ename": "MergeError",
     "evalue": "Not allowed to merge between different levels. (1 levels on the left, 2 on the right)",
     "output_type": "error",
     "traceback": [
      "\u001b[1;31m---------------------------------------------------------------------------\u001b[0m",
      "\u001b[1;31mMergeError\u001b[0m                                Traceback (most recent call last)",
      "Cell \u001b[1;32mIn[13], line 11\u001b[0m\n\u001b[0;32m      8\u001b[0m ratings_grouped \u001b[38;5;241m=\u001b[39m ratings_df\u001b[38;5;241m.\u001b[39mgroupby(\u001b[38;5;124m'\u001b[39m\u001b[38;5;124mmovieId\u001b[39m\u001b[38;5;124m'\u001b[39m)\u001b[38;5;241m.\u001b[39magg({\u001b[38;5;124m'\u001b[39m\u001b[38;5;124mrating\u001b[39m\u001b[38;5;124m'\u001b[39m: [\u001b[38;5;124m'\u001b[39m\u001b[38;5;124mcount\u001b[39m\u001b[38;5;124m'\u001b[39m, \u001b[38;5;124m'\u001b[39m\u001b[38;5;124mmean\u001b[39m\u001b[38;5;124m'\u001b[39m]})\n\u001b[0;32m     10\u001b[0m \u001b[38;5;66;03m# Apply inner join on dataframe created from movies.csv and the grouped df from step 1\u001b[39;00m\n\u001b[1;32m---> 11\u001b[0m joined_df \u001b[38;5;241m=\u001b[39m pd\u001b[38;5;241m.\u001b[39mmerge(movies_df, ratings_grouped, on\u001b[38;5;241m=\u001b[39m\u001b[38;5;124m'\u001b[39m\u001b[38;5;124mmovieId\u001b[39m\u001b[38;5;124m'\u001b[39m, how\u001b[38;5;241m=\u001b[39m\u001b[38;5;124m'\u001b[39m\u001b[38;5;124minner\u001b[39m\u001b[38;5;124m'\u001b[39m)\n\u001b[0;32m     13\u001b[0m \u001b[38;5;66;03m# Filter only those movies which have more than 50 user ratings (i.e. > 50)\u001b[39;00m\n\u001b[0;32m     14\u001b[0m popular_movies \u001b[38;5;241m=\u001b[39m joined_df[joined_df[\u001b[38;5;124m'\u001b[39m\u001b[38;5;124mrating\u001b[39m\u001b[38;5;124m'\u001b[39m][\u001b[38;5;124m'\u001b[39m\u001b[38;5;124mcount\u001b[39m\u001b[38;5;124m'\u001b[39m] \u001b[38;5;241m>\u001b[39m \u001b[38;5;241m50\u001b[39m]\n",
      "File \u001b[1;32m~\\anaconda3\\Lib\\site-packages\\pandas\\core\\reshape\\merge.py:148\u001b[0m, in \u001b[0;36mmerge\u001b[1;34m(left, right, how, on, left_on, right_on, left_index, right_index, sort, suffixes, copy, indicator, validate)\u001b[0m\n\u001b[0;32m    131\u001b[0m \u001b[38;5;129m@Substitution\u001b[39m(\u001b[38;5;124m\"\u001b[39m\u001b[38;5;130;01m\\n\u001b[39;00m\u001b[38;5;124mleft : DataFrame or named Series\u001b[39m\u001b[38;5;124m\"\u001b[39m)\n\u001b[0;32m    132\u001b[0m \u001b[38;5;129m@Appender\u001b[39m(_merge_doc, indents\u001b[38;5;241m=\u001b[39m\u001b[38;5;241m0\u001b[39m)\n\u001b[0;32m    133\u001b[0m \u001b[38;5;28;01mdef\u001b[39;00m \u001b[38;5;21mmerge\u001b[39m(\n\u001b[1;32m   (...)\u001b[0m\n\u001b[0;32m    146\u001b[0m     validate: \u001b[38;5;28mstr\u001b[39m \u001b[38;5;241m|\u001b[39m \u001b[38;5;28;01mNone\u001b[39;00m \u001b[38;5;241m=\u001b[39m \u001b[38;5;28;01mNone\u001b[39;00m,\n\u001b[0;32m    147\u001b[0m ) \u001b[38;5;241m-\u001b[39m\u001b[38;5;241m>\u001b[39m DataFrame:\n\u001b[1;32m--> 148\u001b[0m     op \u001b[38;5;241m=\u001b[39m _MergeOperation(\n\u001b[0;32m    149\u001b[0m         left,\n\u001b[0;32m    150\u001b[0m         right,\n\u001b[0;32m    151\u001b[0m         how\u001b[38;5;241m=\u001b[39mhow,\n\u001b[0;32m    152\u001b[0m         on\u001b[38;5;241m=\u001b[39mon,\n\u001b[0;32m    153\u001b[0m         left_on\u001b[38;5;241m=\u001b[39mleft_on,\n\u001b[0;32m    154\u001b[0m         right_on\u001b[38;5;241m=\u001b[39mright_on,\n\u001b[0;32m    155\u001b[0m         left_index\u001b[38;5;241m=\u001b[39mleft_index,\n\u001b[0;32m    156\u001b[0m         right_index\u001b[38;5;241m=\u001b[39mright_index,\n\u001b[0;32m    157\u001b[0m         sort\u001b[38;5;241m=\u001b[39msort,\n\u001b[0;32m    158\u001b[0m         suffixes\u001b[38;5;241m=\u001b[39msuffixes,\n\u001b[0;32m    159\u001b[0m         indicator\u001b[38;5;241m=\u001b[39mindicator,\n\u001b[0;32m    160\u001b[0m         validate\u001b[38;5;241m=\u001b[39mvalidate,\n\u001b[0;32m    161\u001b[0m     )\n\u001b[0;32m    162\u001b[0m     \u001b[38;5;28;01mreturn\u001b[39;00m op\u001b[38;5;241m.\u001b[39mget_result(copy\u001b[38;5;241m=\u001b[39mcopy)\n",
      "File \u001b[1;32m~\\anaconda3\\Lib\\site-packages\\pandas\\core\\reshape\\merge.py:717\u001b[0m, in \u001b[0;36m_MergeOperation.__init__\u001b[1;34m(self, left, right, how, on, left_on, right_on, axis, left_index, right_index, sort, suffixes, indicator, validate)\u001b[0m\n\u001b[0;32m    711\u001b[0m \u001b[38;5;28;01mif\u001b[39;00m _left\u001b[38;5;241m.\u001b[39mcolumns\u001b[38;5;241m.\u001b[39mnlevels \u001b[38;5;241m!=\u001b[39m _right\u001b[38;5;241m.\u001b[39mcolumns\u001b[38;5;241m.\u001b[39mnlevels:\n\u001b[0;32m    712\u001b[0m     msg \u001b[38;5;241m=\u001b[39m (\n\u001b[0;32m    713\u001b[0m         \u001b[38;5;124m\"\u001b[39m\u001b[38;5;124mNot allowed to merge between different levels. \u001b[39m\u001b[38;5;124m\"\u001b[39m\n\u001b[0;32m    714\u001b[0m         \u001b[38;5;124mf\u001b[39m\u001b[38;5;124m\"\u001b[39m\u001b[38;5;124m(\u001b[39m\u001b[38;5;132;01m{\u001b[39;00m_left\u001b[38;5;241m.\u001b[39mcolumns\u001b[38;5;241m.\u001b[39mnlevels\u001b[38;5;132;01m}\u001b[39;00m\u001b[38;5;124m levels on the left, \u001b[39m\u001b[38;5;124m\"\u001b[39m\n\u001b[0;32m    715\u001b[0m         \u001b[38;5;124mf\u001b[39m\u001b[38;5;124m\"\u001b[39m\u001b[38;5;132;01m{\u001b[39;00m_right\u001b[38;5;241m.\u001b[39mcolumns\u001b[38;5;241m.\u001b[39mnlevels\u001b[38;5;132;01m}\u001b[39;00m\u001b[38;5;124m on the right)\u001b[39m\u001b[38;5;124m\"\u001b[39m\n\u001b[0;32m    716\u001b[0m     )\n\u001b[1;32m--> 717\u001b[0m     \u001b[38;5;28;01mraise\u001b[39;00m MergeError(msg)\n\u001b[0;32m    719\u001b[0m \u001b[38;5;28mself\u001b[39m\u001b[38;5;241m.\u001b[39mleft_on, \u001b[38;5;28mself\u001b[39m\u001b[38;5;241m.\u001b[39mright_on \u001b[38;5;241m=\u001b[39m \u001b[38;5;28mself\u001b[39m\u001b[38;5;241m.\u001b[39m_validate_left_right_on(left_on, right_on)\n\u001b[0;32m    721\u001b[0m cross_col \u001b[38;5;241m=\u001b[39m \u001b[38;5;28;01mNone\u001b[39;00m\n",
      "\u001b[1;31mMergeError\u001b[0m: Not allowed to merge between different levels. (1 levels on the left, 2 on the right)"
     ]
    }
   ],
   "source": [
    "import pandas as pd\n",
    "\n",
    "# Load the CSV files into pandas dataframes\n",
    "ratings_df = pd.read_csv('ratings.csv')\n",
    "movies_df = pd.read_csv('movies.csv')\n",
    "\n",
    "# Group the user ratings based on movieId and apply aggregation operations like count and mean on ratings\n",
    "ratings_grouped = ratings_df.groupby('movieId').agg({'rating': ['count', 'mean']})\n",
    "\n",
    "# Apply inner join on dataframe created from movies.csv and the grouped df from step 1\n",
    "joined_df = pd.merge(movies_df, ratings_grouped, on='movieId', how='inner')\n",
    "\n",
    "# Filter only those movies which have more than 50 user ratings (i.e. > 50)\n",
    "popular_movies = joined_df[joined_df['rating']['count'] > 50]\n",
    "\n",
    "# Print the resulting dataframe\n",
    "print(popular_movies)\n"
   ]
  },
  {
   "cell_type": "code",
   "execution_count": 14,
   "id": "58bcd174",
   "metadata": {},
   "outputs": [
    {
     "ename": "MergeError",
     "evalue": "Not allowed to merge between different levels. (1 levels on the left, 2 on the right)",
     "output_type": "error",
     "traceback": [
      "\u001b[1;31m---------------------------------------------------------------------------\u001b[0m",
      "\u001b[1;31mMergeError\u001b[0m                                Traceback (most recent call last)",
      "Cell \u001b[1;32mIn[14], line 11\u001b[0m\n\u001b[0;32m      8\u001b[0m ratings_grouped \u001b[38;5;241m=\u001b[39m ratings_df\u001b[38;5;241m.\u001b[39mgroupby(\u001b[38;5;124m'\u001b[39m\u001b[38;5;124mmovieId\u001b[39m\u001b[38;5;124m'\u001b[39m)\u001b[38;5;241m.\u001b[39magg({\u001b[38;5;124m'\u001b[39m\u001b[38;5;124mrating\u001b[39m\u001b[38;5;124m'\u001b[39m: [\u001b[38;5;124m'\u001b[39m\u001b[38;5;124mcount\u001b[39m\u001b[38;5;124m'\u001b[39m, \u001b[38;5;124m'\u001b[39m\u001b[38;5;124mmean\u001b[39m\u001b[38;5;124m'\u001b[39m]})\n\u001b[0;32m     10\u001b[0m \u001b[38;5;66;03m# Apply inner join on dataframe created from movies.csv and the grouped df from step 1\u001b[39;00m\n\u001b[1;32m---> 11\u001b[0m joined_df \u001b[38;5;241m=\u001b[39m pd\u001b[38;5;241m.\u001b[39mmerge(movies_df, ratings_grouped, on\u001b[38;5;241m=\u001b[39m\u001b[38;5;124m'\u001b[39m\u001b[38;5;124mmovieId\u001b[39m\u001b[38;5;124m'\u001b[39m)\n\u001b[0;32m     13\u001b[0m \u001b[38;5;66;03m# Filter only those movies which have more than 50 user ratings (i.e. > 50)\u001b[39;00m\n\u001b[0;32m     14\u001b[0m popular_movies \u001b[38;5;241m=\u001b[39m joined_df[joined_df[(\u001b[38;5;124m'\u001b[39m\u001b[38;5;124mrating\u001b[39m\u001b[38;5;124m'\u001b[39m, \u001b[38;5;124m'\u001b[39m\u001b[38;5;124mcount\u001b[39m\u001b[38;5;124m'\u001b[39m)] \u001b[38;5;241m>\u001b[39m \u001b[38;5;241m50\u001b[39m]\n",
      "File \u001b[1;32m~\\anaconda3\\Lib\\site-packages\\pandas\\core\\reshape\\merge.py:148\u001b[0m, in \u001b[0;36mmerge\u001b[1;34m(left, right, how, on, left_on, right_on, left_index, right_index, sort, suffixes, copy, indicator, validate)\u001b[0m\n\u001b[0;32m    131\u001b[0m \u001b[38;5;129m@Substitution\u001b[39m(\u001b[38;5;124m\"\u001b[39m\u001b[38;5;130;01m\\n\u001b[39;00m\u001b[38;5;124mleft : DataFrame or named Series\u001b[39m\u001b[38;5;124m\"\u001b[39m)\n\u001b[0;32m    132\u001b[0m \u001b[38;5;129m@Appender\u001b[39m(_merge_doc, indents\u001b[38;5;241m=\u001b[39m\u001b[38;5;241m0\u001b[39m)\n\u001b[0;32m    133\u001b[0m \u001b[38;5;28;01mdef\u001b[39;00m \u001b[38;5;21mmerge\u001b[39m(\n\u001b[1;32m   (...)\u001b[0m\n\u001b[0;32m    146\u001b[0m     validate: \u001b[38;5;28mstr\u001b[39m \u001b[38;5;241m|\u001b[39m \u001b[38;5;28;01mNone\u001b[39;00m \u001b[38;5;241m=\u001b[39m \u001b[38;5;28;01mNone\u001b[39;00m,\n\u001b[0;32m    147\u001b[0m ) \u001b[38;5;241m-\u001b[39m\u001b[38;5;241m>\u001b[39m DataFrame:\n\u001b[1;32m--> 148\u001b[0m     op \u001b[38;5;241m=\u001b[39m _MergeOperation(\n\u001b[0;32m    149\u001b[0m         left,\n\u001b[0;32m    150\u001b[0m         right,\n\u001b[0;32m    151\u001b[0m         how\u001b[38;5;241m=\u001b[39mhow,\n\u001b[0;32m    152\u001b[0m         on\u001b[38;5;241m=\u001b[39mon,\n\u001b[0;32m    153\u001b[0m         left_on\u001b[38;5;241m=\u001b[39mleft_on,\n\u001b[0;32m    154\u001b[0m         right_on\u001b[38;5;241m=\u001b[39mright_on,\n\u001b[0;32m    155\u001b[0m         left_index\u001b[38;5;241m=\u001b[39mleft_index,\n\u001b[0;32m    156\u001b[0m         right_index\u001b[38;5;241m=\u001b[39mright_index,\n\u001b[0;32m    157\u001b[0m         sort\u001b[38;5;241m=\u001b[39msort,\n\u001b[0;32m    158\u001b[0m         suffixes\u001b[38;5;241m=\u001b[39msuffixes,\n\u001b[0;32m    159\u001b[0m         indicator\u001b[38;5;241m=\u001b[39mindicator,\n\u001b[0;32m    160\u001b[0m         validate\u001b[38;5;241m=\u001b[39mvalidate,\n\u001b[0;32m    161\u001b[0m     )\n\u001b[0;32m    162\u001b[0m     \u001b[38;5;28;01mreturn\u001b[39;00m op\u001b[38;5;241m.\u001b[39mget_result(copy\u001b[38;5;241m=\u001b[39mcopy)\n",
      "File \u001b[1;32m~\\anaconda3\\Lib\\site-packages\\pandas\\core\\reshape\\merge.py:717\u001b[0m, in \u001b[0;36m_MergeOperation.__init__\u001b[1;34m(self, left, right, how, on, left_on, right_on, axis, left_index, right_index, sort, suffixes, indicator, validate)\u001b[0m\n\u001b[0;32m    711\u001b[0m \u001b[38;5;28;01mif\u001b[39;00m _left\u001b[38;5;241m.\u001b[39mcolumns\u001b[38;5;241m.\u001b[39mnlevels \u001b[38;5;241m!=\u001b[39m _right\u001b[38;5;241m.\u001b[39mcolumns\u001b[38;5;241m.\u001b[39mnlevels:\n\u001b[0;32m    712\u001b[0m     msg \u001b[38;5;241m=\u001b[39m (\n\u001b[0;32m    713\u001b[0m         \u001b[38;5;124m\"\u001b[39m\u001b[38;5;124mNot allowed to merge between different levels. \u001b[39m\u001b[38;5;124m\"\u001b[39m\n\u001b[0;32m    714\u001b[0m         \u001b[38;5;124mf\u001b[39m\u001b[38;5;124m\"\u001b[39m\u001b[38;5;124m(\u001b[39m\u001b[38;5;132;01m{\u001b[39;00m_left\u001b[38;5;241m.\u001b[39mcolumns\u001b[38;5;241m.\u001b[39mnlevels\u001b[38;5;132;01m}\u001b[39;00m\u001b[38;5;124m levels on the left, \u001b[39m\u001b[38;5;124m\"\u001b[39m\n\u001b[0;32m    715\u001b[0m         \u001b[38;5;124mf\u001b[39m\u001b[38;5;124m\"\u001b[39m\u001b[38;5;132;01m{\u001b[39;00m_right\u001b[38;5;241m.\u001b[39mcolumns\u001b[38;5;241m.\u001b[39mnlevels\u001b[38;5;132;01m}\u001b[39;00m\u001b[38;5;124m on the right)\u001b[39m\u001b[38;5;124m\"\u001b[39m\n\u001b[0;32m    716\u001b[0m     )\n\u001b[1;32m--> 717\u001b[0m     \u001b[38;5;28;01mraise\u001b[39;00m MergeError(msg)\n\u001b[0;32m    719\u001b[0m \u001b[38;5;28mself\u001b[39m\u001b[38;5;241m.\u001b[39mleft_on, \u001b[38;5;28mself\u001b[39m\u001b[38;5;241m.\u001b[39mright_on \u001b[38;5;241m=\u001b[39m \u001b[38;5;28mself\u001b[39m\u001b[38;5;241m.\u001b[39m_validate_left_right_on(left_on, right_on)\n\u001b[0;32m    721\u001b[0m cross_col \u001b[38;5;241m=\u001b[39m \u001b[38;5;28;01mNone\u001b[39;00m\n",
      "\u001b[1;31mMergeError\u001b[0m: Not allowed to merge between different levels. (1 levels on the left, 2 on the right)"
     ]
    }
   ],
   "source": [
    "import pandas as pd\n",
    "\n",
    "# Load the CSV files into pandas dataframes\n",
    "ratings_df = pd.read_csv('ratings.csv')\n",
    "movies_df = pd.read_csv('movies.csv')\n",
    "\n",
    "# Group the user ratings based on movieId and apply aggregation operations like count and mean on ratings\n",
    "ratings_grouped = ratings_df.groupby('movieId').agg({'rating': ['count', 'mean']})\n",
    "\n",
    "# Apply inner join on dataframe created from movies.csv and the grouped df from step 1\n",
    "joined_df = pd.merge(movies_df, ratings_grouped, on='movieId')\n",
    "\n",
    "# Filter only those movies which have more than 50 user ratings (i.e. > 50)\n",
    "popular_movies = joined_df[joined_df[('rating', 'count')] > 50]\n",
    "\n",
    "# Print the resulting dataframe\n",
    "print(popular_movies)"
   ]
  },
  {
   "cell_type": "code",
   "execution_count": 15,
   "id": "5a962a41",
   "metadata": {},
   "outputs": [],
   "source": [
    "import pandas as pd\n",
    "\n",
    "# Load the CSV files into pandas dataframes\n",
    "ratings_df = pd.read_csv('ratings.csv')\n",
    "movies_df = pd.read_csv('movies.csv')\n",
    "\n",
    "# Group the user ratings based on movieId and apply aggregation operations like count and mean on ratings\n",
    "ratings_grouped = ratings_df.groupby('movieId').agg({'rating': ['count', 'mean']})"
   ]
  },
  {
   "cell_type": "code",
   "execution_count": 16,
   "id": "119da4b2",
   "metadata": {},
   "outputs": [
    {
     "ename": "MergeError",
     "evalue": "Not allowed to merge between different levels. (1 levels on the left, 2 on the right)",
     "output_type": "error",
     "traceback": [
      "\u001b[1;31m---------------------------------------------------------------------------\u001b[0m",
      "\u001b[1;31mMergeError\u001b[0m                                Traceback (most recent call last)",
      "Cell \u001b[1;32mIn[16], line 1\u001b[0m\n\u001b[1;32m----> 1\u001b[0m joined_df \u001b[38;5;241m=\u001b[39m pd\u001b[38;5;241m.\u001b[39mmerge(movies_df, ratings_grouped, on\u001b[38;5;241m=\u001b[39m\u001b[38;5;124m'\u001b[39m\u001b[38;5;124mmovieId\u001b[39m\u001b[38;5;124m'\u001b[39m)\n",
      "File \u001b[1;32m~\\anaconda3\\Lib\\site-packages\\pandas\\core\\reshape\\merge.py:148\u001b[0m, in \u001b[0;36mmerge\u001b[1;34m(left, right, how, on, left_on, right_on, left_index, right_index, sort, suffixes, copy, indicator, validate)\u001b[0m\n\u001b[0;32m    131\u001b[0m \u001b[38;5;129m@Substitution\u001b[39m(\u001b[38;5;124m\"\u001b[39m\u001b[38;5;130;01m\\n\u001b[39;00m\u001b[38;5;124mleft : DataFrame or named Series\u001b[39m\u001b[38;5;124m\"\u001b[39m)\n\u001b[0;32m    132\u001b[0m \u001b[38;5;129m@Appender\u001b[39m(_merge_doc, indents\u001b[38;5;241m=\u001b[39m\u001b[38;5;241m0\u001b[39m)\n\u001b[0;32m    133\u001b[0m \u001b[38;5;28;01mdef\u001b[39;00m \u001b[38;5;21mmerge\u001b[39m(\n\u001b[1;32m   (...)\u001b[0m\n\u001b[0;32m    146\u001b[0m     validate: \u001b[38;5;28mstr\u001b[39m \u001b[38;5;241m|\u001b[39m \u001b[38;5;28;01mNone\u001b[39;00m \u001b[38;5;241m=\u001b[39m \u001b[38;5;28;01mNone\u001b[39;00m,\n\u001b[0;32m    147\u001b[0m ) \u001b[38;5;241m-\u001b[39m\u001b[38;5;241m>\u001b[39m DataFrame:\n\u001b[1;32m--> 148\u001b[0m     op \u001b[38;5;241m=\u001b[39m _MergeOperation(\n\u001b[0;32m    149\u001b[0m         left,\n\u001b[0;32m    150\u001b[0m         right,\n\u001b[0;32m    151\u001b[0m         how\u001b[38;5;241m=\u001b[39mhow,\n\u001b[0;32m    152\u001b[0m         on\u001b[38;5;241m=\u001b[39mon,\n\u001b[0;32m    153\u001b[0m         left_on\u001b[38;5;241m=\u001b[39mleft_on,\n\u001b[0;32m    154\u001b[0m         right_on\u001b[38;5;241m=\u001b[39mright_on,\n\u001b[0;32m    155\u001b[0m         left_index\u001b[38;5;241m=\u001b[39mleft_index,\n\u001b[0;32m    156\u001b[0m         right_index\u001b[38;5;241m=\u001b[39mright_index,\n\u001b[0;32m    157\u001b[0m         sort\u001b[38;5;241m=\u001b[39msort,\n\u001b[0;32m    158\u001b[0m         suffixes\u001b[38;5;241m=\u001b[39msuffixes,\n\u001b[0;32m    159\u001b[0m         indicator\u001b[38;5;241m=\u001b[39mindicator,\n\u001b[0;32m    160\u001b[0m         validate\u001b[38;5;241m=\u001b[39mvalidate,\n\u001b[0;32m    161\u001b[0m     )\n\u001b[0;32m    162\u001b[0m     \u001b[38;5;28;01mreturn\u001b[39;00m op\u001b[38;5;241m.\u001b[39mget_result(copy\u001b[38;5;241m=\u001b[39mcopy)\n",
      "File \u001b[1;32m~\\anaconda3\\Lib\\site-packages\\pandas\\core\\reshape\\merge.py:717\u001b[0m, in \u001b[0;36m_MergeOperation.__init__\u001b[1;34m(self, left, right, how, on, left_on, right_on, axis, left_index, right_index, sort, suffixes, indicator, validate)\u001b[0m\n\u001b[0;32m    711\u001b[0m \u001b[38;5;28;01mif\u001b[39;00m _left\u001b[38;5;241m.\u001b[39mcolumns\u001b[38;5;241m.\u001b[39mnlevels \u001b[38;5;241m!=\u001b[39m _right\u001b[38;5;241m.\u001b[39mcolumns\u001b[38;5;241m.\u001b[39mnlevels:\n\u001b[0;32m    712\u001b[0m     msg \u001b[38;5;241m=\u001b[39m (\n\u001b[0;32m    713\u001b[0m         \u001b[38;5;124m\"\u001b[39m\u001b[38;5;124mNot allowed to merge between different levels. \u001b[39m\u001b[38;5;124m\"\u001b[39m\n\u001b[0;32m    714\u001b[0m         \u001b[38;5;124mf\u001b[39m\u001b[38;5;124m\"\u001b[39m\u001b[38;5;124m(\u001b[39m\u001b[38;5;132;01m{\u001b[39;00m_left\u001b[38;5;241m.\u001b[39mcolumns\u001b[38;5;241m.\u001b[39mnlevels\u001b[38;5;132;01m}\u001b[39;00m\u001b[38;5;124m levels on the left, \u001b[39m\u001b[38;5;124m\"\u001b[39m\n\u001b[0;32m    715\u001b[0m         \u001b[38;5;124mf\u001b[39m\u001b[38;5;124m\"\u001b[39m\u001b[38;5;132;01m{\u001b[39;00m_right\u001b[38;5;241m.\u001b[39mcolumns\u001b[38;5;241m.\u001b[39mnlevels\u001b[38;5;132;01m}\u001b[39;00m\u001b[38;5;124m on the right)\u001b[39m\u001b[38;5;124m\"\u001b[39m\n\u001b[0;32m    716\u001b[0m     )\n\u001b[1;32m--> 717\u001b[0m     \u001b[38;5;28;01mraise\u001b[39;00m MergeError(msg)\n\u001b[0;32m    719\u001b[0m \u001b[38;5;28mself\u001b[39m\u001b[38;5;241m.\u001b[39mleft_on, \u001b[38;5;28mself\u001b[39m\u001b[38;5;241m.\u001b[39mright_on \u001b[38;5;241m=\u001b[39m \u001b[38;5;28mself\u001b[39m\u001b[38;5;241m.\u001b[39m_validate_left_right_on(left_on, right_on)\n\u001b[0;32m    721\u001b[0m cross_col \u001b[38;5;241m=\u001b[39m \u001b[38;5;28;01mNone\u001b[39;00m\n",
      "\u001b[1;31mMergeError\u001b[0m: Not allowed to merge between different levels. (1 levels on the left, 2 on the right)"
     ]
    }
   ],
   "source": [
    "joined_df = pd.merge(movies_df, ratings_grouped, on='movieId')"
   ]
  },
  {
   "cell_type": "code",
   "execution_count": 17,
   "id": "e62ab872",
   "metadata": {},
   "outputs": [
    {
     "name": "stdout",
     "output_type": "stream",
     "text": [
      "      movieId                             title  \\\n",
      "0           1                  Toy Story (1995)   \n",
      "1           2                    Jumanji (1995)   \n",
      "2           3           Grumpier Old Men (1995)   \n",
      "5           6                       Heat (1995)   \n",
      "6           7                    Sabrina (1995)   \n",
      "...       ...                               ...   \n",
      "8305   106782   Wolf of Wall Street, The (2013)   \n",
      "8372   109374  Grand Budapest Hotel, The (2014)   \n",
      "8376   109487               Interstellar (2014)   \n",
      "8475   112852    Guardians of the Galaxy (2014)   \n",
      "8691   122904                   Deadpool (2016)   \n",
      "\n",
      "                                           genres  rating_count  rating_mean  \n",
      "0     Adventure|Animation|Children|Comedy|Fantasy           215     3.920930  \n",
      "1                      Adventure|Children|Fantasy           110     3.431818  \n",
      "2                                  Comedy|Romance            52     3.259615  \n",
      "5                           Action|Crime|Thriller           102     3.946078  \n",
      "6                                  Comedy|Romance            54     3.185185  \n",
      "...                                           ...           ...          ...  \n",
      "8305                           Comedy|Crime|Drama            54     3.916667  \n",
      "8372                                 Comedy|Drama            52     3.778846  \n",
      "8376                                  Sci-Fi|IMAX            73     3.993151  \n",
      "8475                      Action|Adventure|Sci-Fi            59     4.050847  \n",
      "8691               Action|Adventure|Comedy|Sci-Fi            54     3.833333  \n",
      "\n",
      "[436 rows x 5 columns]\n"
     ]
    }
   ],
   "source": [
    "import pandas as pd\n",
    "\n",
    "# Load the CSV files into pandas dataframes\n",
    "ratings_df = pd.read_csv('ratings.csv')\n",
    "movies_df = pd.read_csv('movies.csv')\n",
    "\n",
    "# Group the user ratings based on movieId and apply aggregation operations like count and mean on ratings\n",
    "ratings_grouped = ratings_df.groupby('movieId').agg({'rating': ['count', 'mean']})\n",
    "\n",
    "# Flatten the MultiIndex in the ratings_grouped dataframe\n",
    "ratings_grouped.columns = ratings_grouped.columns.map('_'.join)\n",
    "\n",
    "# Apply inner join on dataframe created from movies.csv and the grouped df from step 1\n",
    "joined_df = pd.merge(movies_df, ratings_grouped, left_on='movieId', right_index=True, how='inner')\n",
    "\n",
    "# Filter only those movies which have more than 50 user ratings (i.e. > 50)\n",
    "popular_movies = joined_df[joined_df['rating_count'] > 50]\n",
    "\n",
    "# Print the resulting dataframe\n",
    "print(popular_movies)\n"
   ]
  },
  {
   "cell_type": "raw",
   "id": "642c34cf",
   "metadata": {},
   "source": [
    "In python csv file as \"ratings.csv\", \"movies.csv\", \"tags.csv\" , \"links.csv\" . The 'ratings.csv' it contains columns as \"userId\", \"movieId\", \"rating\", \"timestamp\" and movies.csv\" contains colums as \"movieId\", \"title\", \"genres\". The \"links.csv\" contains columns as \"movieId\", \"imdbid\", \"tmdbid\" and \"tags.csv\" contains colums as \"userId\", \"movieId\", \"tag\", \"timestamp\" . Now do folloeing operations  1. Group the user ratings based on movieId and apply aggregation operations like count and mean on ratings. \n",
    "2. Apply inner join on dataframe created from movies.csv and the grouped df from step 1.\n",
    "3. Filter only those movies which have more than 50 user ratings (i.e. > 50).\n",
    "\n",
    "\n",
    "\n",
    "Which movie is the most popular based on  average user ratings?"
   ]
  },
  {
   "cell_type": "code",
   "execution_count": 18,
   "id": "ca482a3b",
   "metadata": {},
   "outputs": [
    {
     "ename": "KeyError",
     "evalue": "('rating_count', 'mean')",
     "output_type": "error",
     "traceback": [
      "\u001b[1;31m---------------------------------------------------------------------------\u001b[0m",
      "\u001b[1;31mKeyError\u001b[0m                                  Traceback (most recent call last)",
      "File \u001b[1;32m~\\anaconda3\\Lib\\site-packages\\pandas\\core\\indexes\\base.py:3653\u001b[0m, in \u001b[0;36mIndex.get_loc\u001b[1;34m(self, key)\u001b[0m\n\u001b[0;32m   3652\u001b[0m \u001b[38;5;28;01mtry\u001b[39;00m:\n\u001b[1;32m-> 3653\u001b[0m     \u001b[38;5;28;01mreturn\u001b[39;00m \u001b[38;5;28mself\u001b[39m\u001b[38;5;241m.\u001b[39m_engine\u001b[38;5;241m.\u001b[39mget_loc(casted_key)\n\u001b[0;32m   3654\u001b[0m \u001b[38;5;28;01mexcept\u001b[39;00m \u001b[38;5;167;01mKeyError\u001b[39;00m \u001b[38;5;28;01mas\u001b[39;00m err:\n",
      "File \u001b[1;32m~\\anaconda3\\Lib\\site-packages\\pandas\\_libs\\index.pyx:147\u001b[0m, in \u001b[0;36mpandas._libs.index.IndexEngine.get_loc\u001b[1;34m()\u001b[0m\n",
      "File \u001b[1;32m~\\anaconda3\\Lib\\site-packages\\pandas\\_libs\\index.pyx:176\u001b[0m, in \u001b[0;36mpandas._libs.index.IndexEngine.get_loc\u001b[1;34m()\u001b[0m\n",
      "File \u001b[1;32mpandas\\_libs\\hashtable_class_helper.pxi:7080\u001b[0m, in \u001b[0;36mpandas._libs.hashtable.PyObjectHashTable.get_item\u001b[1;34m()\u001b[0m\n",
      "File \u001b[1;32mpandas\\_libs\\hashtable_class_helper.pxi:7088\u001b[0m, in \u001b[0;36mpandas._libs.hashtable.PyObjectHashTable.get_item\u001b[1;34m()\u001b[0m\n",
      "\u001b[1;31mKeyError\u001b[0m: ('rating_count', 'mean')",
      "\nThe above exception was the direct cause of the following exception:\n",
      "\u001b[1;31mKeyError\u001b[0m                                  Traceback (most recent call last)",
      "Cell \u001b[1;32mIn[18], line 6\u001b[0m\n\u001b[0;32m      3\u001b[0m popular_movies \u001b[38;5;241m=\u001b[39m joined_df[joined_df[\u001b[38;5;124m'\u001b[39m\u001b[38;5;124mrating_count\u001b[39m\u001b[38;5;124m'\u001b[39m] \u001b[38;5;241m>\u001b[39m \u001b[38;5;241m50\u001b[39m]\n\u001b[0;32m      5\u001b[0m \u001b[38;5;66;03m# Find the movie with the highest average rating\u001b[39;00m\n\u001b[1;32m----> 6\u001b[0m most_popular_movie \u001b[38;5;241m=\u001b[39m popular_movies\u001b[38;5;241m.\u001b[39mloc[popular_movies[(\u001b[38;5;124m'\u001b[39m\u001b[38;5;124mrating_count\u001b[39m\u001b[38;5;124m'\u001b[39m, \u001b[38;5;124m'\u001b[39m\u001b[38;5;124mmean\u001b[39m\u001b[38;5;124m'\u001b[39m)]\u001b[38;5;241m.\u001b[39midxmax()]\n\u001b[0;32m      8\u001b[0m \u001b[38;5;66;03m# Print the title of the most popular movie based on average user ratings\u001b[39;00m\n\u001b[0;32m      9\u001b[0m \u001b[38;5;28mprint\u001b[39m(\u001b[38;5;124mf\u001b[39m\u001b[38;5;124m\"\u001b[39m\u001b[38;5;124mThe most popular movie based on average user ratings is **\u001b[39m\u001b[38;5;132;01m{\u001b[39;00mmost_popular_movie[\u001b[38;5;124m'\u001b[39m\u001b[38;5;124mtitle\u001b[39m\u001b[38;5;124m'\u001b[39m]\u001b[38;5;132;01m}\u001b[39;00m\u001b[38;5;124m**.\u001b[39m\u001b[38;5;124m\"\u001b[39m)\n",
      "File \u001b[1;32m~\\anaconda3\\Lib\\site-packages\\pandas\\core\\frame.py:3761\u001b[0m, in \u001b[0;36mDataFrame.__getitem__\u001b[1;34m(self, key)\u001b[0m\n\u001b[0;32m   3759\u001b[0m \u001b[38;5;28;01mif\u001b[39;00m \u001b[38;5;28mself\u001b[39m\u001b[38;5;241m.\u001b[39mcolumns\u001b[38;5;241m.\u001b[39mnlevels \u001b[38;5;241m>\u001b[39m \u001b[38;5;241m1\u001b[39m:\n\u001b[0;32m   3760\u001b[0m     \u001b[38;5;28;01mreturn\u001b[39;00m \u001b[38;5;28mself\u001b[39m\u001b[38;5;241m.\u001b[39m_getitem_multilevel(key)\n\u001b[1;32m-> 3761\u001b[0m indexer \u001b[38;5;241m=\u001b[39m \u001b[38;5;28mself\u001b[39m\u001b[38;5;241m.\u001b[39mcolumns\u001b[38;5;241m.\u001b[39mget_loc(key)\n\u001b[0;32m   3762\u001b[0m \u001b[38;5;28;01mif\u001b[39;00m is_integer(indexer):\n\u001b[0;32m   3763\u001b[0m     indexer \u001b[38;5;241m=\u001b[39m [indexer]\n",
      "File \u001b[1;32m~\\anaconda3\\Lib\\site-packages\\pandas\\core\\indexes\\base.py:3655\u001b[0m, in \u001b[0;36mIndex.get_loc\u001b[1;34m(self, key)\u001b[0m\n\u001b[0;32m   3653\u001b[0m     \u001b[38;5;28;01mreturn\u001b[39;00m \u001b[38;5;28mself\u001b[39m\u001b[38;5;241m.\u001b[39m_engine\u001b[38;5;241m.\u001b[39mget_loc(casted_key)\n\u001b[0;32m   3654\u001b[0m \u001b[38;5;28;01mexcept\u001b[39;00m \u001b[38;5;167;01mKeyError\u001b[39;00m \u001b[38;5;28;01mas\u001b[39;00m err:\n\u001b[1;32m-> 3655\u001b[0m     \u001b[38;5;28;01mraise\u001b[39;00m \u001b[38;5;167;01mKeyError\u001b[39;00m(key) \u001b[38;5;28;01mfrom\u001b[39;00m \u001b[38;5;21;01merr\u001b[39;00m\n\u001b[0;32m   3656\u001b[0m \u001b[38;5;28;01mexcept\u001b[39;00m \u001b[38;5;167;01mTypeError\u001b[39;00m:\n\u001b[0;32m   3657\u001b[0m     \u001b[38;5;66;03m# If we have a listlike key, _check_indexing_error will raise\u001b[39;00m\n\u001b[0;32m   3658\u001b[0m     \u001b[38;5;66;03m#  InvalidIndexError. Otherwise we fall through and re-raise\u001b[39;00m\n\u001b[0;32m   3659\u001b[0m     \u001b[38;5;66;03m#  the TypeError.\u001b[39;00m\n\u001b[0;32m   3660\u001b[0m     \u001b[38;5;28mself\u001b[39m\u001b[38;5;241m.\u001b[39m_check_indexing_error(key)\n",
      "\u001b[1;31mKeyError\u001b[0m: ('rating_count', 'mean')"
     ]
    }
   ],
   "source": [
    "# Filter only those movies which have more than 50 user ratings (i.e. > 50)\n",
    "# Filter only those movies which have more than 50 user ratings (i.e. > 50)\n",
    "popular_movies = joined_df[joined_df['rating_count'] > 50]\n",
    "\n",
    "# Find the movie with the highest average rating\n",
    "most_popular_movie = popular_movies.loc[popular_movies[('rating_count', 'mean')].idxmax()]\n",
    "\n",
    "# Print the title of the most popular movie based on average user ratings\n",
    "print(f\"The most popular movie based on average user ratings is **{most_popular_movie['title']}**.\")"
   ]
  },
  {
   "cell_type": "code",
   "execution_count": null,
   "id": "c8732dad",
   "metadata": {},
   "outputs": [],
   "source": [
    "import pandas as pd\n",
    "\n",
    "# Load the CSV files into pandas dataframes\n",
    "ratings_df = pd.read_csv('ratings.csv')\n",
    "movies_df = pd.read_csv('movies.csv')\n",
    "\n",
    "# Group the user ratings based on movieId and apply aggregation operations like count and mean on ratings\n",
    "ratings_grouped = ratings_df.groupby('movieId').agg({'rating': ['count', 'mean']})\n",
    "\n",
    "# Apply inner join on dataframe created from movies.csv and the grouped df from step 1\n",
    "joined_df = pd.merge(movies_df, ratings_grouped, on='movieId')\n",
    "\n",
    "# Filter only those movies which have more than 50 user ratings (i.e. > 50)\n",
    "popular_movies = joined_df[joined_df[('rating', 'count')] > 50]\n",
    "\n",
    "# Find the movie with the highest average rating\n",
    "most_popular_movie = popular_movies.loc[popular_movies[('rating', 'mean')].idxmax()]\n",
    "\n",
    "# Print the title of the most popular movie based on average user ratings\n",
    "print(f\"The most popular movie based on average user ratings is **{most_popular_movie['title']}**.\")\n"
   ]
  },
  {
   "cell_type": "code",
   "execution_count": 19,
   "id": "f87bcdb0",
   "metadata": {},
   "outputs": [
    {
     "name": "stdout",
     "output_type": "stream",
     "text": [
      "Filtered Movies with more than 50 user ratings:\n",
      "      movieId                             title  \\\n",
      "0           1                  Toy Story (1995)   \n",
      "1           2                    Jumanji (1995)   \n",
      "2           3           Grumpier Old Men (1995)   \n",
      "5           6                       Heat (1995)   \n",
      "6           7                    Sabrina (1995)   \n",
      "...       ...                               ...   \n",
      "8305   106782   Wolf of Wall Street, The (2013)   \n",
      "8372   109374  Grand Budapest Hotel, The (2014)   \n",
      "8376   109487               Interstellar (2014)   \n",
      "8475   112852    Guardians of the Galaxy (2014)   \n",
      "8691   122904                   Deadpool (2016)   \n",
      "\n",
      "                                           genres  rating_count  rating_mean  \n",
      "0     Adventure|Animation|Children|Comedy|Fantasy           215     3.920930  \n",
      "1                      Adventure|Children|Fantasy           110     3.431818  \n",
      "2                                  Comedy|Romance            52     3.259615  \n",
      "5                           Action|Crime|Thriller           102     3.946078  \n",
      "6                                  Comedy|Romance            54     3.185185  \n",
      "...                                           ...           ...          ...  \n",
      "8305                           Comedy|Crime|Drama            54     3.916667  \n",
      "8372                                 Comedy|Drama            52     3.778846  \n",
      "8376                                  Sci-Fi|IMAX            73     3.993151  \n",
      "8475                      Action|Adventure|Sci-Fi            59     4.050847  \n",
      "8691               Action|Adventure|Comedy|Sci-Fi            54     3.833333  \n",
      "\n",
      "[436 rows x 5 columns]\n",
      "\n",
      "Most Popular Movie based on average user ratings:\n",
      "                                title  rating_mean\n",
      "277  Shawshank Redemption, The (1994)     4.429022\n"
     ]
    }
   ],
   "source": [
    "import pandas as pd\n",
    "\n",
    "# Load the CSV files into pandas dataframes\n",
    "ratings_df = pd.read_csv('ratings.csv')\n",
    "movies_df = pd.read_csv('movies.csv')\n",
    "\n",
    "# 1. Group the user ratings based on movieId and apply aggregation operations like count and mean on ratings\n",
    "ratings_grouped = ratings_df.groupby('movieId').agg({'rating': ['count', 'mean']})\n",
    "\n",
    "# Flatten the MultiIndex in the ratings_grouped dataframe\n",
    "ratings_grouped.columns = ratings_grouped.columns.map('_'.join)\n",
    "\n",
    "# 2. Apply inner join on dataframe created from movies.csv and the grouped df from step 1\n",
    "joined_df = pd.merge(movies_df, ratings_grouped, left_on='movieId', right_index=True, how='inner')\n",
    "\n",
    "# 3. Filter only those movies which have more than 50 user ratings (i.e. > 50)\n",
    "popular_movies = joined_df[joined_df['rating_count'] > 50]\n",
    "\n",
    "# Find the most popular movie based on average user ratings\n",
    "most_popular_movie = popular_movies[popular_movies['rating_mean'] == popular_movies['rating_mean'].max()]\n",
    "\n",
    "# Print the resulting dataframe and most popular movie\n",
    "print(\"Filtered Movies with more than 50 user ratings:\")\n",
    "print(popular_movies)\n",
    "print(\"\\nMost Popular Movie based on average user ratings:\")\n",
    "print(most_popular_movie[['title', 'rating_mean']])\n"
   ]
  },
  {
   "cell_type": "code",
   "execution_count": 20,
   "id": "c63a8132",
   "metadata": {},
   "outputs": [
    {
     "name": "stdout",
     "output_type": "stream",
     "text": [
      "Filtered Movies with More Than 50 Ratings:\n",
      "      movieId                             title  \\\n",
      "0           1                  Toy Story (1995)   \n",
      "1           2                    Jumanji (1995)   \n",
      "2           3           Grumpier Old Men (1995)   \n",
      "5           6                       Heat (1995)   \n",
      "6           7                    Sabrina (1995)   \n",
      "...       ...                               ...   \n",
      "8305   106782   Wolf of Wall Street, The (2013)   \n",
      "8372   109374  Grand Budapest Hotel, The (2014)   \n",
      "8376   109487               Interstellar (2014)   \n",
      "8475   112852    Guardians of the Galaxy (2014)   \n",
      "8691   122904                   Deadpool (2016)   \n",
      "\n",
      "                                           genres  rating_count  rating_mean  \n",
      "0     Adventure|Animation|Children|Comedy|Fantasy           215     3.920930  \n",
      "1                      Adventure|Children|Fantasy           110     3.431818  \n",
      "2                                  Comedy|Romance            52     3.259615  \n",
      "5                           Action|Crime|Thriller           102     3.946078  \n",
      "6                                  Comedy|Romance            54     3.185185  \n",
      "...                                           ...           ...          ...  \n",
      "8305                           Comedy|Crime|Drama            54     3.916667  \n",
      "8372                                 Comedy|Drama            52     3.778846  \n",
      "8376                                  Sci-Fi|IMAX            73     3.993151  \n",
      "8475                      Action|Adventure|Sci-Fi            59     4.050847  \n",
      "8691               Action|Adventure|Comedy|Sci-Fi            54     3.833333  \n",
      "\n",
      "[436 rows x 5 columns]\n",
      "\n",
      "Most Popular Movie Based on Average User Ratings:\n",
      "title          Shawshank Redemption, The (1994)\n",
      "rating_mean                            4.429022\n",
      "Name: 277, dtype: object\n"
     ]
    }
   ],
   "source": [
    "import pandas as pd\n",
    "\n",
    "# Load the CSV files into pandas dataframes\n",
    "ratings_df = pd.read_csv('ratings.csv')\n",
    "movies_df = pd.read_csv('movies.csv')\n",
    "\n",
    "# Group the user ratings based on movieId and apply aggregation operations like count and mean on ratings\n",
    "ratings_grouped = ratings_df.groupby('movieId').agg({'rating': ['count', 'mean']})\n",
    "ratings_grouped.columns = ratings_grouped.columns.map('_'.join)\n",
    "\n",
    "# Apply inner join on dataframe created from movies.csv and the grouped df from step 1\n",
    "joined_df = pd.merge(movies_df, ratings_grouped, left_on='movieId', right_index=True, how='inner')\n",
    "\n",
    "# Filter only those movies which have more than 50 user ratings (i.e. > 50)\n",
    "popular_movies = joined_df[joined_df['rating_count'] > 50]\n",
    "\n",
    "# Identify the most popular movie based on average user ratings\n",
    "most_popular_movie = popular_movies.loc[popular_movies['rating_mean'].idxmax()]\n",
    "\n",
    "# Print the resulting dataframe and the most popular movie\n",
    "print(\"Filtered Movies with More Than 50 Ratings:\")\n",
    "print(popular_movies)\n",
    "print(\"\\nMost Popular Movie Based on Average User Ratings:\")\n",
    "print(most_popular_movie[['title', 'rating_mean']])\n"
   ]
  },
  {
   "cell_type": "raw",
   "id": "b3832e2c",
   "metadata": {},
   "source": [
    "In python csv file as \"ratings.csv\", \"movies.csv\", \"tags.csv\" , \"links.csv\" . The 'ratings.csv' it contains columns as \"userId\", \"movieId\", \"rating\", \"timestamp\" and movies.csv\" contains colums as \"movieId\", \"title\", \"genres\". The \"links.csv\" contains columns as \"movieId\", \"imdbid\", \"tmdbid\" and \"tags.csv\" contains colums as \"userId\", \"movieId\", \"tag\", \"timestamp\" . Now do folloeing operations  1. Group the user ratings based on movieId and apply aggregation operations like count and mean on ratings. \n",
    "2. Apply inner join on dataframe created from movies.csv and the grouped df from step 1.\n",
    "3. Filter only those movies which have more than 50 user ratings (i.e. > 50).\n",
    "\n",
    "\n",
    "Select all the correct options which comes under top 5 popular movies based on number of user ratings."
   ]
  },
  {
   "cell_type": "code",
   "execution_count": 21,
   "id": "175770ad",
   "metadata": {},
   "outputs": [
    {
     "name": "stdout",
     "output_type": "stream",
     "text": [
      "Filtered Movies with More Than 50 Ratings:\n",
      "      movieId                             title  \\\n",
      "0           1                  Toy Story (1995)   \n",
      "1           2                    Jumanji (1995)   \n",
      "2           3           Grumpier Old Men (1995)   \n",
      "5           6                       Heat (1995)   \n",
      "6           7                    Sabrina (1995)   \n",
      "...       ...                               ...   \n",
      "8305   106782   Wolf of Wall Street, The (2013)   \n",
      "8372   109374  Grand Budapest Hotel, The (2014)   \n",
      "8376   109487               Interstellar (2014)   \n",
      "8475   112852    Guardians of the Galaxy (2014)   \n",
      "8691   122904                   Deadpool (2016)   \n",
      "\n",
      "                                           genres  rating_count  rating_mean  \n",
      "0     Adventure|Animation|Children|Comedy|Fantasy           215     3.920930  \n",
      "1                      Adventure|Children|Fantasy           110     3.431818  \n",
      "2                                  Comedy|Romance            52     3.259615  \n",
      "5                           Action|Crime|Thriller           102     3.946078  \n",
      "6                                  Comedy|Romance            54     3.185185  \n",
      "...                                           ...           ...          ...  \n",
      "8305                           Comedy|Crime|Drama            54     3.916667  \n",
      "8372                                 Comedy|Drama            52     3.778846  \n",
      "8376                                  Sci-Fi|IMAX            73     3.993151  \n",
      "8475                      Action|Adventure|Sci-Fi            59     4.050847  \n",
      "8691               Action|Adventure|Comedy|Sci-Fi            54     3.833333  \n",
      "\n",
      "[436 rows x 5 columns]\n",
      "\n",
      "Top 5 Popular Movies Based on Number of User Ratings:\n",
      "                                 title  rating_count\n",
      "314                Forrest Gump (1994)           329\n",
      "277   Shawshank Redemption, The (1994)           317\n",
      "257                Pulp Fiction (1994)           307\n",
      "510   Silence of the Lambs, The (1991)           279\n",
      "1939                Matrix, The (1999)           278\n"
     ]
    }
   ],
   "source": [
    "import pandas as pd\n",
    "\n",
    "# Load the CSV files into pandas dataframes\n",
    "ratings_df = pd.read_csv('ratings.csv')\n",
    "movies_df = pd.read_csv('movies.csv')\n",
    "\n",
    "# Group the user ratings based on movieId and apply aggregation operations like count and mean on ratings\n",
    "ratings_grouped = ratings_df.groupby('movieId').agg({'rating': ['count', 'mean']})\n",
    "ratings_grouped.columns = ratings_grouped.columns.map('_'.join)\n",
    "\n",
    "# Apply inner join on dataframe created from movies.csv and the grouped df from step 1\n",
    "joined_df = pd.merge(movies_df, ratings_grouped, left_on='movieId', right_index=True, how='inner')\n",
    "\n",
    "# Filter only those movies which have more than 50 user ratings (i.e. > 50)\n",
    "popular_movies = joined_df[joined_df['rating_count'] > 50]\n",
    "\n",
    "# Select the top 5 popular movies based on the number of user ratings\n",
    "top_5_popular_movies = popular_movies.sort_values(by='rating_count', ascending=False).head(5)\n",
    "\n",
    "# Print the resulting dataframe and the top 5 popular movies\n",
    "print(\"Filtered Movies with More Than 50 Ratings:\")\n",
    "print(popular_movies)\n",
    "print(\"\\nTop 5 Popular Movies Based on Number of User Ratings:\")\n",
    "print(top_5_popular_movies[['title', 'rating_count']])\n"
   ]
  },
  {
   "cell_type": "code",
   "execution_count": 22,
   "id": "9ed5f1bc",
   "metadata": {},
   "outputs": [],
   "source": [
    "grouped_ratings_df = ratings_df.groupby('movieId')['rating'].agg(['count', 'mean']).reset_index()\n"
   ]
  },
  {
   "cell_type": "code",
   "execution_count": 23,
   "id": "ca359382",
   "metadata": {},
   "outputs": [],
   "source": [
    "joined_df = pd.merge(movies_df, grouped_ratings_df, on='movieId', how='inner')\n"
   ]
  },
  {
   "cell_type": "code",
   "execution_count": 24,
   "id": "d8db02e5",
   "metadata": {},
   "outputs": [],
   "source": [
    "popular_movies_df = joined_df[joined_df['count'] > 50]\n"
   ]
  },
  {
   "cell_type": "code",
   "execution_count": 25,
   "id": "4200b917",
   "metadata": {},
   "outputs": [],
   "source": [
    "top_5_popular_movies_df = popular_movies_df.sort_values(by='count', ascending=False).head(5)\n"
   ]
  },
  {
   "cell_type": "code",
   "execution_count": 26,
   "id": "a26d2d05",
   "metadata": {},
   "outputs": [
    {
     "data": {
      "text/html": [
       "<div>\n",
       "<style scoped>\n",
       "    .dataframe tbody tr th:only-of-type {\n",
       "        vertical-align: middle;\n",
       "    }\n",
       "\n",
       "    .dataframe tbody tr th {\n",
       "        vertical-align: top;\n",
       "    }\n",
       "\n",
       "    .dataframe thead th {\n",
       "        text-align: right;\n",
       "    }\n",
       "</style>\n",
       "<table border=\"1\" class=\"dataframe\">\n",
       "  <thead>\n",
       "    <tr style=\"text-align: right;\">\n",
       "      <th></th>\n",
       "      <th>title</th>\n",
       "      <th>count</th>\n",
       "    </tr>\n",
       "  </thead>\n",
       "  <tbody>\n",
       "    <tr>\n",
       "      <th>314</th>\n",
       "      <td>Forrest Gump (1994)</td>\n",
       "      <td>329</td>\n",
       "    </tr>\n",
       "    <tr>\n",
       "      <th>277</th>\n",
       "      <td>Shawshank Redemption, The (1994)</td>\n",
       "      <td>317</td>\n",
       "    </tr>\n",
       "    <tr>\n",
       "      <th>257</th>\n",
       "      <td>Pulp Fiction (1994)</td>\n",
       "      <td>307</td>\n",
       "    </tr>\n",
       "    <tr>\n",
       "      <th>510</th>\n",
       "      <td>Silence of the Lambs, The (1991)</td>\n",
       "      <td>279</td>\n",
       "    </tr>\n",
       "    <tr>\n",
       "      <th>1938</th>\n",
       "      <td>Matrix, The (1999)</td>\n",
       "      <td>278</td>\n",
       "    </tr>\n",
       "  </tbody>\n",
       "</table>\n",
       "</div>"
      ],
      "text/plain": [
       "                                 title  count\n",
       "314                Forrest Gump (1994)    329\n",
       "277   Shawshank Redemption, The (1994)    317\n",
       "257                Pulp Fiction (1994)    307\n",
       "510   Silence of the Lambs, The (1991)    279\n",
       "1938                Matrix, The (1999)    278"
      ]
     },
     "execution_count": 26,
     "metadata": {},
     "output_type": "execute_result"
    }
   ],
   "source": [
    "top_5_popular_movies_df[['title', 'count']]\n"
   ]
  },
  {
   "cell_type": "code",
   "execution_count": 27,
   "id": "1a09bfd8",
   "metadata": {},
   "outputs": [
    {
     "name": "stdout",
     "output_type": "stream",
     "text": [
      "Filtered Movies with More Than 50 Ratings:\n",
      "                                 title  rating_count\n",
      "0                     Toy Story (1995)           215\n",
      "1                       Jumanji (1995)           110\n",
      "2              Grumpier Old Men (1995)            52\n",
      "5                          Heat (1995)           102\n",
      "6                       Sabrina (1995)            54\n",
      "...                                ...           ...\n",
      "8305   Wolf of Wall Street, The (2013)            54\n",
      "8372  Grand Budapest Hotel, The (2014)            52\n",
      "8376               Interstellar (2014)            73\n",
      "8475    Guardians of the Galaxy (2014)            59\n",
      "8691                   Deadpool (2016)            54\n",
      "\n",
      "[436 rows x 2 columns]\n",
      "\n",
      "Top 5 Popular Movies Based on Number of User Ratings:\n",
      "                                 title  rating_count\n",
      "314                Forrest Gump (1994)           329\n",
      "277   Shawshank Redemption, The (1994)           317\n",
      "257                Pulp Fiction (1994)           307\n",
      "510   Silence of the Lambs, The (1991)           279\n",
      "1939                Matrix, The (1999)           278\n"
     ]
    }
   ],
   "source": [
    "import pandas as pd\n",
    "\n",
    "# Load the CSV files into pandas dataframes\n",
    "ratings_df = pd.read_csv('ratings.csv')\n",
    "movies_df = pd.read_csv('movies.csv')\n",
    "\n",
    "# Group the user ratings based on movieId and apply aggregation operations like count and mean on ratings\n",
    "ratings_grouped = ratings_df.groupby('movieId').agg({'rating': ['count', 'mean']})\n",
    "ratings_grouped.columns = ratings_grouped.columns.map('_'.join)\n",
    "\n",
    "# Apply inner join on dataframe created from movies.csv and the grouped df from step 1\n",
    "joined_df = pd.merge(movies_df, ratings_grouped, left_on='movieId', right_index=True, how='inner')\n",
    "\n",
    "# Filter only those movies which have more than 50 user ratings (i.e. > 50)\n",
    "popular_movies = joined_df[joined_df['rating_count'] > 50]\n",
    "\n",
    "# Identify the top 5 popular movies based on the number of user ratings\n",
    "top_5_popular_movies = popular_movies.nlargest(5, 'rating_count')\n",
    "\n",
    "# Print the resulting dataframe and the top 5 popular movies\n",
    "print(\"Filtered Movies with More Than 50 Ratings:\")\n",
    "print(popular_movies[['title', 'rating_count']])\n",
    "print(\"\\nTop 5 Popular Movies Based on Number of User Ratings:\")\n",
    "print(top_5_popular_movies[['title', 'rating_count']])\n"
   ]
  },
  {
   "cell_type": "raw",
   "id": "d8b42a45",
   "metadata": {},
   "source": [
    "In python csv file as \"ratings.csv\", \"movies.csv\", \"tags.csv\" , \"links.csv\" . The 'ratings.csv' it contains columns as \"userId\", \"movieId\", \"rating\", \"timestamp\" and movies.csv\" contains colums as \"movieId\", \"title\", \"genres\". The \"links.csv\" contains columns as \"movieId\", \"imdbid\", \"tmdbid\" and \"tags.csv\" contains colums as \"userId\", \"movieId\", \"tag\", \"timestamp\" . Now do folloeing operations  1. Group the user ratings based on movieId and apply aggregation operations like count and mean on ratings. \n",
    "2. Apply inner join on dataframe created from movies.csv and the grouped df from step 1.\n",
    "3. Filter only those movies which have more than 50 user ratings (i.e. > 50).\n",
    "\n",
    "Which Sci-Fi movie is \"third most popular\" based on the number of user ratings?"
   ]
  },
  {
   "cell_type": "code",
   "execution_count": 28,
   "id": "e68f4f22",
   "metadata": {},
   "outputs": [
    {
     "name": "stdout",
     "output_type": "stream",
     "text": [
      "Filtered Sci-Fi Movies with More Than 50 Ratings:\n",
      "                                          title  rating_count\n",
      "31    Twelve Monkeys (a.k.a. 12 Monkeys) (1995)           177\n",
      "133                                Congo (1995)            57\n",
      "144                      Johnny Mnemonic (1995)            53\n",
      "145                          Judge Dredd (1995)            62\n",
      "176                           Waterworld (1995)           115\n",
      "...                                         ...           ...\n",
      "7693                       Avengers, The (2012)            69\n",
      "7767                    The Hunger Games (2012)            54\n",
      "8376                        Interstellar (2014)            73\n",
      "8475             Guardians of the Galaxy (2014)            59\n",
      "8691                            Deadpool (2016)            54\n",
      "\n",
      "[88 rows x 2 columns]\n",
      "\n",
      "Third Most Popular Sci-Fi Movie Based on Number of User Ratings:\n",
      "title           Jurassic Park (1993)\n",
      "rating_count                     238\n",
      "Name: 418, dtype: object\n"
     ]
    }
   ],
   "source": [
    "import pandas as pd\n",
    "\n",
    "# Load the CSV files into pandas dataframes\n",
    "ratings_df = pd.read_csv('ratings.csv')\n",
    "movies_df = pd.read_csv('movies.csv')\n",
    "\n",
    "# Group the user ratings based on movieId and apply aggregation operations like count and mean on ratings\n",
    "ratings_grouped = ratings_df.groupby('movieId').agg({'rating': ['count', 'mean']})\n",
    "ratings_grouped.columns = ratings_grouped.columns.map('_'.join)\n",
    "\n",
    "# Apply inner join on dataframe created from movies.csv and the grouped df from step 1\n",
    "joined_df = pd.merge(movies_df, ratings_grouped, left_on='movieId', right_index=True, how='inner')\n",
    "\n",
    "# Filter only those movies which have more than 50 user ratings (i.e. > 50)\n",
    "popular_movies = joined_df[joined_df['rating_count'] > 50]\n",
    "\n",
    "# Filter Sci-Fi movies\n",
    "sci_fi_movies = popular_movies[popular_movies['genres'].str.contains('Sci-Fi')]\n",
    "\n",
    "# Identify the third most popular Sci-Fi movie based on the number of user ratings\n",
    "third_most_popular_sci_fi = sci_fi_movies.nlargest(3, 'rating_count').iloc[-1]\n",
    "\n",
    "# Print the resulting dataframe and the third most popular Sci-Fi movie\n",
    "print(\"Filtered Sci-Fi Movies with More Than 50 Ratings:\")\n",
    "print(sci_fi_movies[['title', 'rating_count']])\n",
    "print(\"\\nThird Most Popular Sci-Fi Movie Based on Number of User Ratings:\")\n",
    "print(third_most_popular_sci_fi[['title', 'rating_count']])\n"
   ]
  },
  {
   "cell_type": "code",
   "execution_count": 29,
   "id": "ea6f02ec",
   "metadata": {},
   "outputs": [
    {
     "name": "stdout",
     "output_type": "stream",
     "text": [
      "Filtered Sci-Fi Movies with More Than 50 Ratings:\n",
      "                                          title  rating_count\n",
      "31    Twelve Monkeys (a.k.a. 12 Monkeys) (1995)           177\n",
      "133                                Congo (1995)            57\n",
      "144                      Johnny Mnemonic (1995)            53\n",
      "145                          Judge Dredd (1995)            62\n",
      "176                           Waterworld (1995)           115\n",
      "...                                         ...           ...\n",
      "7693                       Avengers, The (2012)            69\n",
      "7767                    The Hunger Games (2012)            54\n",
      "8376                        Interstellar (2014)            73\n",
      "8475             Guardians of the Galaxy (2014)            59\n",
      "8691                            Deadpool (2016)            54\n",
      "\n",
      "[88 rows x 2 columns]\n",
      "\n",
      "Third Most Popular Sci-Fi Movie Based on Number of User Ratings:\n",
      "title           Jurassic Park (1993)\n",
      "rating_count                     238\n",
      "Name: 418, dtype: object\n"
     ]
    }
   ],
   "source": [
    "import pandas as pd\n",
    "\n",
    "# Load the CSV files into pandas dataframes\n",
    "ratings_df = pd.read_csv('ratings.csv')\n",
    "movies_df = pd.read_csv('movies.csv')\n",
    "\n",
    "# Group the user ratings based on movieId and apply aggregation operations like count and mean on ratings\n",
    "ratings_grouped = ratings_df.groupby('movieId').agg({'rating': ['count', 'mean']})\n",
    "ratings_grouped.columns = ratings_grouped.columns.map('_'.join)\n",
    "\n",
    "# Apply inner join on dataframe created from movies.csv and the grouped df from step 1\n",
    "joined_df = pd.merge(movies_df, ratings_grouped, left_on='movieId', right_index=True, how='inner')\n",
    "\n",
    "# Filter only those movies which have more than 50 user ratings (i.e. > 50)\n",
    "popular_movies = joined_df[joined_df['rating_count'] > 50]\n",
    "\n",
    "# Filter Sci-Fi movies from the popular movies dataframe\n",
    "sci_fi_movies = popular_movies[popular_movies['genres'].str.contains('Sci-Fi')]\n",
    "\n",
    "# Identify the third most popular Sci-Fi movie based on the number of user ratings\n",
    "third_most_popular_sci_fi = sci_fi_movies.nlargest(3, 'rating_count').iloc[-1]\n",
    "\n",
    "# Print the resulting dataframe and the third most popular Sci-Fi movie\n",
    "print(\"Filtered Sci-Fi Movies with More Than 50 Ratings:\")\n",
    "print(sci_fi_movies[['title', 'rating_count']])\n",
    "print(\"\\nThird Most Popular Sci-Fi Movie Based on Number of User Ratings:\")\n",
    "print(third_most_popular_sci_fi[['title', 'rating_count']])\n"
   ]
  },
  {
   "cell_type": "code",
   "execution_count": 30,
   "id": "9823e4e7",
   "metadata": {},
   "outputs": [],
   "source": [
    "grouped_ratings_df = ratings_df.groupby('movieId')['rating'].agg(['count', 'mean']).reset_index()\n"
   ]
  },
  {
   "cell_type": "code",
   "execution_count": 31,
   "id": "da704bba",
   "metadata": {},
   "outputs": [],
   "source": [
    "joined_df = pd.merge(movies_df, grouped_ratings_df, on='movieId', how='inner')\n"
   ]
  },
  {
   "cell_type": "code",
   "execution_count": 32,
   "id": "1df686d5",
   "metadata": {},
   "outputs": [],
   "source": [
    "popular_movies_df = joined_df[joined_df['count'] > 50]\n"
   ]
  },
  {
   "cell_type": "code",
   "execution_count": 33,
   "id": "9b05beda",
   "metadata": {},
   "outputs": [],
   "source": [
    "top_5_popular_movies_df = popular_movies_df.sort_values(by='count', ascending=False).head(5)\n"
   ]
  },
  {
   "cell_type": "code",
   "execution_count": 34,
   "id": "661f4adc",
   "metadata": {},
   "outputs": [
    {
     "data": {
      "text/html": [
       "<div>\n",
       "<style scoped>\n",
       "    .dataframe tbody tr th:only-of-type {\n",
       "        vertical-align: middle;\n",
       "    }\n",
       "\n",
       "    .dataframe tbody tr th {\n",
       "        vertical-align: top;\n",
       "    }\n",
       "\n",
       "    .dataframe thead th {\n",
       "        text-align: right;\n",
       "    }\n",
       "</style>\n",
       "<table border=\"1\" class=\"dataframe\">\n",
       "  <thead>\n",
       "    <tr style=\"text-align: right;\">\n",
       "      <th></th>\n",
       "      <th>title</th>\n",
       "      <th>count</th>\n",
       "    </tr>\n",
       "  </thead>\n",
       "  <tbody>\n",
       "    <tr>\n",
       "      <th>314</th>\n",
       "      <td>Forrest Gump (1994)</td>\n",
       "      <td>329</td>\n",
       "    </tr>\n",
       "    <tr>\n",
       "      <th>277</th>\n",
       "      <td>Shawshank Redemption, The (1994)</td>\n",
       "      <td>317</td>\n",
       "    </tr>\n",
       "    <tr>\n",
       "      <th>257</th>\n",
       "      <td>Pulp Fiction (1994)</td>\n",
       "      <td>307</td>\n",
       "    </tr>\n",
       "    <tr>\n",
       "      <th>510</th>\n",
       "      <td>Silence of the Lambs, The (1991)</td>\n",
       "      <td>279</td>\n",
       "    </tr>\n",
       "    <tr>\n",
       "      <th>1938</th>\n",
       "      <td>Matrix, The (1999)</td>\n",
       "      <td>278</td>\n",
       "    </tr>\n",
       "  </tbody>\n",
       "</table>\n",
       "</div>"
      ],
      "text/plain": [
       "                                 title  count\n",
       "314                Forrest Gump (1994)    329\n",
       "277   Shawshank Redemption, The (1994)    317\n",
       "257                Pulp Fiction (1994)    307\n",
       "510   Silence of the Lambs, The (1991)    279\n",
       "1938                Matrix, The (1999)    278"
      ]
     },
     "execution_count": 34,
     "metadata": {},
     "output_type": "execute_result"
    }
   ],
   "source": [
    "top_5_popular_movies_df[['title', 'count']]\n"
   ]
  },
  {
   "cell_type": "code",
   "execution_count": 35,
   "id": "e50531b4",
   "metadata": {},
   "outputs": [
    {
     "name": "stdout",
     "output_type": "stream",
     "text": [
      "Filtered Sci-Fi Movies with More Than 50 Ratings:\n",
      "                                          title  rating_count\n",
      "31    Twelve Monkeys (a.k.a. 12 Monkeys) (1995)           177\n",
      "133                                Congo (1995)            57\n",
      "144                      Johnny Mnemonic (1995)            53\n",
      "145                          Judge Dredd (1995)            62\n",
      "176                           Waterworld (1995)           115\n",
      "...                                         ...           ...\n",
      "7693                       Avengers, The (2012)            69\n",
      "7767                    The Hunger Games (2012)            54\n",
      "8376                        Interstellar (2014)            73\n",
      "8475             Guardians of the Galaxy (2014)            59\n",
      "8691                            Deadpool (2016)            54\n",
      "\n",
      "[88 rows x 2 columns]\n",
      "\n",
      "Third Most Popular Sci-Fi Movie Based on Number of User Ratings:\n",
      "title           Jurassic Park (1993)\n",
      "rating_count                     238\n",
      "Name: 418, dtype: object\n"
     ]
    }
   ],
   "source": [
    "import pandas as pd\n",
    "\n",
    "# Load the CSV files into pandas dataframes\n",
    "ratings_df = pd.read_csv('ratings.csv')\n",
    "movies_df = pd.read_csv('movies.csv')\n",
    "\n",
    "# Group the user ratings based on movieId and apply aggregation operations like count and mean on ratings\n",
    "ratings_grouped = ratings_df.groupby('movieId').agg({'rating': ['count', 'mean']})\n",
    "ratings_grouped.columns = ratings_grouped.columns.map('_'.join)\n",
    "\n",
    "# Apply inner join on dataframe created from movies.csv and the grouped df from step 1\n",
    "joined_df = pd.merge(movies_df, ratings_grouped, left_on='movieId', right_index=True, how='inner')\n",
    "\n",
    "# Filter only those movies which have more than 50 user ratings (i.e. > 50)\n",
    "popular_movies = joined_df[joined_df['rating_count'] > 50]\n",
    "\n",
    "# Filter Sci-Fi movies from the popular movies dataframe\n",
    "sci_fi_movies = popular_movies[popular_movies['genres'].str.contains('Sci-Fi')]\n",
    "\n",
    "# Identify the third most popular Sci-Fi movie based on the number of user ratings\n",
    "third_most_popular_sci_fi = sci_fi_movies.nlargest(3, 'rating_count').iloc[-1]\n",
    "\n",
    "# Print the resulting dataframe and the third most popular Sci-Fi movie\n",
    "print(\"Filtered Sci-Fi Movies with More Than 50 Ratings:\")\n",
    "print(sci_fi_movies[['title', 'rating_count']])\n",
    "print(\"\\nThird Most Popular Sci-Fi Movie Based on Number of User Ratings:\")\n",
    "print(third_most_popular_sci_fi[['title', 'rating_count']])\n"
   ]
  },
  {
   "cell_type": "raw",
   "id": "c341cec0",
   "metadata": {},
   "source": [
    "In python csv file as \"ratings.csv\", \"movies.csv\", \"tags.csv\" , \"links.csv\" . The 'ratings.csv' it contains columns as \"userId\", \"movieId\", \"rating\", \"timestamp\" and movies.csv\" contains colums as \"movieId\", \"title\", \"genres\". The \"links.csv\" contains columns as \"movieId\", \"imdbid\", \"tmdbid\" and \"tags.csv\" contains colums as \"userId\", \"movieId\", \"tag\", \"timestamp\" . Now do folloeing operations  1. Group the user ratings based on movieId and apply aggregation operations like count and mean on ratings. \n",
    "2. Apply inner join on dataframe created from movies.csv and the grouped df from step 1.\n",
    "3. Filter only those movies which have more than 50 user ratings (i.e. > 50).\n",
    "\n",
    "Using \"links.csv\", scrape the IMDB reviews of each movie with more than 50 user ratings. \"README.md\" file contains the required details."
   ]
  },
  {
   "cell_type": "code",
   "execution_count": 36,
   "id": "c7e71ab9",
   "metadata": {},
   "outputs": [
    {
     "name": "stdout",
     "output_type": "stream",
     "text": [
      "Failed to retrieve reviews for Toy Story (1995). Status Code: 404\n",
      "Failed to retrieve reviews for Jumanji (1995). Status Code: 404\n",
      "Failed to retrieve reviews for Grumpier Old Men (1995). Status Code: 404\n",
      "Failed to retrieve reviews for Heat (1995). Status Code: 404\n",
      "Failed to retrieve reviews for Sabrina (1995). Status Code: 404\n",
      "Failed to retrieve reviews for GoldenEye (1995). Status Code: 404\n",
      "Failed to retrieve reviews for American President, The (1995). Status Code: 404\n",
      "Failed to retrieve reviews for Casino (1995). Status Code: 404\n",
      "Failed to retrieve reviews for Sense and Sensibility (1995). Status Code: 404\n",
      "Failed to retrieve reviews for Ace Ventura: When Nature Calls (1995). Status Code: 404\n",
      "Failed to retrieve reviews for Get Shorty (1995). Status Code: 404\n",
      "Failed to retrieve reviews for Leaving Las Vegas (1995). Status Code: 404\n",
      "Failed to retrieve reviews for Twelve Monkeys (a.k.a. 12 Monkeys) (1995). Status Code: 404\n",
      "Failed to retrieve reviews for Babe (1995). Status Code: 404\n",
      "Failed to retrieve reviews for Dead Man Walking (1995). Status Code: 404\n",
      "Failed to retrieve reviews for Clueless (1995). Status Code: 404\n",
      "Failed to retrieve reviews for Seven (a.k.a. Se7en) (1995). Status Code: 404\n",
      "Failed to retrieve reviews for Pocahontas (1995). Status Code: 404\n",
      "Failed to retrieve reviews for Usual Suspects, The (1995). Status Code: 404\n",
      "Failed to retrieve reviews for Mr. Holland's Opus (1995). Status Code: 404\n",
      "Failed to retrieve reviews for From Dusk Till Dawn (1996). Status Code: 404\n",
      "Failed to retrieve reviews for Broken Arrow (1996). Status Code: 404\n",
      "Failed to retrieve reviews for Happy Gilmore (1996). Status Code: 404\n",
      "Failed to retrieve reviews for Braveheart (1995). Status Code: 404\n",
      "Failed to retrieve reviews for Taxi Driver (1976). Status Code: 404\n",
      "Failed to retrieve reviews for Birdcage, The (1996). Status Code: 404\n",
      "Failed to retrieve reviews for Bad Boys (1995). Status Code: 404\n",
      "Failed to retrieve reviews for Apollo 13 (1995). Status Code: 404\n",
      "Failed to retrieve reviews for Batman Forever (1995). Status Code: 404\n",
      "Failed to retrieve reviews for Casper (1995). Status Code: 404\n",
      "Failed to retrieve reviews for Congo (1995). Status Code: 404\n",
      "Failed to retrieve reviews for Crimson Tide (1995). Status Code: 404\n",
      "Failed to retrieve reviews for Desperado (1995). Status Code: 404\n",
      "Failed to retrieve reviews for Die Hard: With a Vengeance (1995). Status Code: 404\n",
      "Failed to retrieve reviews for First Knight (1995). Status Code: 404\n",
      "Failed to retrieve reviews for Johnny Mnemonic (1995). Status Code: 404\n",
      "Failed to retrieve reviews for Judge Dredd (1995). Status Code: 404\n",
      "Failed to retrieve reviews for Net, The (1995). Status Code: 404\n",
      "Failed to retrieve reviews for Waterworld (1995). Status Code: 404\n",
      "Failed to retrieve reviews for Clerks (1994). Status Code: 404\n",
      "Failed to retrieve reviews for Disclosure (1994). Status Code: 404\n",
      "Failed to retrieve reviews for Dumb & Dumber (Dumb and Dumber) (1994). Status Code: 404\n",
      "Failed to retrieve reviews for Ed Wood (1994). Status Code: 404\n",
      "Failed to retrieve reviews for Interview with the Vampire: The Vampire Chronicles (1994). Status Code: 404\n",
      "Failed to retrieve reviews for Star Wars: Episode IV - A New Hope (1977). Status Code: 404\n",
      "Failed to retrieve reviews for Legends of the Fall (1994). Status Code: 404\n",
      "Failed to retrieve reviews for Natural Born Killers (1994). Status Code: 404\n",
      "Failed to retrieve reviews for Outbreak (1995). Status Code: 404\n",
      "Failed to retrieve reviews for Léon: The Professional (a.k.a. The Professional) (Léon) (1994). Status Code: 404\n",
      "Failed to retrieve reviews for Pulp Fiction (1994). Status Code: 404\n",
      "Failed to retrieve reviews for Quiz Show (1994). Status Code: 404\n",
      "Failed to retrieve reviews for Stargate (1994). Status Code: 404\n",
      "Failed to retrieve reviews for Santa Clause, The (1994). Status Code: 404\n",
      "Failed to retrieve reviews for Shawshank Redemption, The (1994). Status Code: 404\n",
      "Failed to retrieve reviews for Star Trek: Generations (1994). Status Code: 404\n",
      "Failed to retrieve reviews for What's Eating Gilbert Grape (1993). Status Code: 404\n",
      "Failed to retrieve reviews for While You Were Sleeping (1995). Status Code: 404\n",
      "Failed to retrieve reviews for Ace Ventura: Pet Detective (1994). Status Code: 404\n",
      "Failed to retrieve reviews for Clear and Present Danger (1994). Status Code: 404\n",
      "Failed to retrieve reviews for Client, The (1994). Status Code: 404\n",
      "Failed to retrieve reviews for Crow, The (1994). Status Code: 404\n",
      "Failed to retrieve reviews for Forrest Gump (1994). Status Code: 404\n",
      "Failed to retrieve reviews for Four Weddings and a Funeral (1994). Status Code: 404\n",
      "Failed to retrieve reviews for Lion King, The (1994). Status Code: 404\n",
      "Failed to retrieve reviews for Mask, The (1994). Status Code: 404\n",
      "Failed to retrieve reviews for Maverick (1994). Status Code: 404\n",
      "Failed to retrieve reviews for Naked Gun 33 1/3: The Final Insult (1994). Status Code: 404\n",
      "Failed to retrieve reviews for Speed (1994). Status Code: 404\n",
      "Failed to retrieve reviews for True Lies (1994). Status Code: 404\n",
      "Failed to retrieve reviews for Addams Family Values (1993). Status Code: 404\n",
      "Failed to retrieve reviews for Beverly Hills Cop III (1994). Status Code: 404\n",
      "Failed to retrieve reviews for City Slickers II: The Legend of Curly's Gold (1994). Status Code: 404\n",
      "Failed to retrieve reviews for Cliffhanger (1993). Status Code: 404\n",
      "Failed to retrieve reviews for Coneheads (1993). Status Code: 404\n",
      "Failed to retrieve reviews for Dave (1993). Status Code: 404\n",
      "Failed to retrieve reviews for Demolition Man (1993). Status Code: 404\n",
      "Failed to retrieve reviews for Firm, The (1993). Status Code: 404\n",
      "Failed to retrieve reviews for Fugitive, The (1993). Status Code: 404\n",
      "Failed to retrieve reviews for Hot Shots! Part Deux (1993). Status Code: 404\n",
      "Failed to retrieve reviews for In the Line of Fire (1993). Status Code: 404\n",
      "Failed to retrieve reviews for Jurassic Park (1993). Status Code: 404\n"
     ]
    },
    {
     "ename": "KeyboardInterrupt",
     "evalue": "",
     "output_type": "error",
     "traceback": [
      "\u001b[1;31m---------------------------------------------------------------------------\u001b[0m",
      "\u001b[1;31mKeyboardInterrupt\u001b[0m                         Traceback (most recent call last)",
      "Cell \u001b[1;32mIn[36], line 32\u001b[0m\n\u001b[0;32m     29\u001b[0m url \u001b[38;5;241m=\u001b[39m \u001b[38;5;124mf\u001b[39m\u001b[38;5;124m'\u001b[39m\u001b[38;5;124mhttps://www.imdb.com/title/\u001b[39m\u001b[38;5;132;01m{\u001b[39;00mimdb_id\u001b[38;5;132;01m}\u001b[39;00m\u001b[38;5;124m/reviews\u001b[39m\u001b[38;5;124m'\u001b[39m\n\u001b[0;32m     31\u001b[0m \u001b[38;5;66;03m# Send a request to the URL\u001b[39;00m\n\u001b[1;32m---> 32\u001b[0m response \u001b[38;5;241m=\u001b[39m requests\u001b[38;5;241m.\u001b[39mget(url)\n\u001b[0;32m     34\u001b[0m \u001b[38;5;66;03m# Check if the request was successful (status code 200)\u001b[39;00m\n\u001b[0;32m     35\u001b[0m \u001b[38;5;28;01mif\u001b[39;00m response\u001b[38;5;241m.\u001b[39mstatus_code \u001b[38;5;241m==\u001b[39m \u001b[38;5;241m200\u001b[39m:\n\u001b[0;32m     36\u001b[0m     \u001b[38;5;66;03m# Parse the HTML content of the page\u001b[39;00m\n",
      "File \u001b[1;32m~\\anaconda3\\Lib\\site-packages\\requests\\api.py:73\u001b[0m, in \u001b[0;36mget\u001b[1;34m(url, params, **kwargs)\u001b[0m\n\u001b[0;32m     62\u001b[0m \u001b[38;5;28;01mdef\u001b[39;00m \u001b[38;5;21mget\u001b[39m(url, params\u001b[38;5;241m=\u001b[39m\u001b[38;5;28;01mNone\u001b[39;00m, \u001b[38;5;241m*\u001b[39m\u001b[38;5;241m*\u001b[39mkwargs):\n\u001b[0;32m     63\u001b[0m \u001b[38;5;250m    \u001b[39m\u001b[38;5;124mr\u001b[39m\u001b[38;5;124;03m\"\"\"Sends a GET request.\u001b[39;00m\n\u001b[0;32m     64\u001b[0m \n\u001b[0;32m     65\u001b[0m \u001b[38;5;124;03m    :param url: URL for the new :class:`Request` object.\u001b[39;00m\n\u001b[1;32m   (...)\u001b[0m\n\u001b[0;32m     70\u001b[0m \u001b[38;5;124;03m    :rtype: requests.Response\u001b[39;00m\n\u001b[0;32m     71\u001b[0m \u001b[38;5;124;03m    \"\"\"\u001b[39;00m\n\u001b[1;32m---> 73\u001b[0m     \u001b[38;5;28;01mreturn\u001b[39;00m request(\u001b[38;5;124m\"\u001b[39m\u001b[38;5;124mget\u001b[39m\u001b[38;5;124m\"\u001b[39m, url, params\u001b[38;5;241m=\u001b[39mparams, \u001b[38;5;241m*\u001b[39m\u001b[38;5;241m*\u001b[39mkwargs)\n",
      "File \u001b[1;32m~\\anaconda3\\Lib\\site-packages\\requests\\api.py:59\u001b[0m, in \u001b[0;36mrequest\u001b[1;34m(method, url, **kwargs)\u001b[0m\n\u001b[0;32m     55\u001b[0m \u001b[38;5;66;03m# By using the 'with' statement we are sure the session is closed, thus we\u001b[39;00m\n\u001b[0;32m     56\u001b[0m \u001b[38;5;66;03m# avoid leaving sockets open which can trigger a ResourceWarning in some\u001b[39;00m\n\u001b[0;32m     57\u001b[0m \u001b[38;5;66;03m# cases, and look like a memory leak in others.\u001b[39;00m\n\u001b[0;32m     58\u001b[0m \u001b[38;5;28;01mwith\u001b[39;00m sessions\u001b[38;5;241m.\u001b[39mSession() \u001b[38;5;28;01mas\u001b[39;00m session:\n\u001b[1;32m---> 59\u001b[0m     \u001b[38;5;28;01mreturn\u001b[39;00m session\u001b[38;5;241m.\u001b[39mrequest(method\u001b[38;5;241m=\u001b[39mmethod, url\u001b[38;5;241m=\u001b[39murl, \u001b[38;5;241m*\u001b[39m\u001b[38;5;241m*\u001b[39mkwargs)\n",
      "File \u001b[1;32m~\\anaconda3\\Lib\\site-packages\\requests\\sessions.py:589\u001b[0m, in \u001b[0;36mSession.request\u001b[1;34m(self, method, url, params, data, headers, cookies, files, auth, timeout, allow_redirects, proxies, hooks, stream, verify, cert, json)\u001b[0m\n\u001b[0;32m    584\u001b[0m send_kwargs \u001b[38;5;241m=\u001b[39m {\n\u001b[0;32m    585\u001b[0m     \u001b[38;5;124m\"\u001b[39m\u001b[38;5;124mtimeout\u001b[39m\u001b[38;5;124m\"\u001b[39m: timeout,\n\u001b[0;32m    586\u001b[0m     \u001b[38;5;124m\"\u001b[39m\u001b[38;5;124mallow_redirects\u001b[39m\u001b[38;5;124m\"\u001b[39m: allow_redirects,\n\u001b[0;32m    587\u001b[0m }\n\u001b[0;32m    588\u001b[0m send_kwargs\u001b[38;5;241m.\u001b[39mupdate(settings)\n\u001b[1;32m--> 589\u001b[0m resp \u001b[38;5;241m=\u001b[39m \u001b[38;5;28mself\u001b[39m\u001b[38;5;241m.\u001b[39msend(prep, \u001b[38;5;241m*\u001b[39m\u001b[38;5;241m*\u001b[39msend_kwargs)\n\u001b[0;32m    591\u001b[0m \u001b[38;5;28;01mreturn\u001b[39;00m resp\n",
      "File \u001b[1;32m~\\anaconda3\\Lib\\site-packages\\requests\\sessions.py:703\u001b[0m, in \u001b[0;36mSession.send\u001b[1;34m(self, request, **kwargs)\u001b[0m\n\u001b[0;32m    700\u001b[0m start \u001b[38;5;241m=\u001b[39m preferred_clock()\n\u001b[0;32m    702\u001b[0m \u001b[38;5;66;03m# Send the request\u001b[39;00m\n\u001b[1;32m--> 703\u001b[0m r \u001b[38;5;241m=\u001b[39m adapter\u001b[38;5;241m.\u001b[39msend(request, \u001b[38;5;241m*\u001b[39m\u001b[38;5;241m*\u001b[39mkwargs)\n\u001b[0;32m    705\u001b[0m \u001b[38;5;66;03m# Total elapsed time of the request (approximately)\u001b[39;00m\n\u001b[0;32m    706\u001b[0m elapsed \u001b[38;5;241m=\u001b[39m preferred_clock() \u001b[38;5;241m-\u001b[39m start\n",
      "File \u001b[1;32m~\\anaconda3\\Lib\\site-packages\\requests\\adapters.py:486\u001b[0m, in \u001b[0;36mHTTPAdapter.send\u001b[1;34m(self, request, stream, timeout, verify, cert, proxies)\u001b[0m\n\u001b[0;32m    483\u001b[0m     timeout \u001b[38;5;241m=\u001b[39m TimeoutSauce(connect\u001b[38;5;241m=\u001b[39mtimeout, read\u001b[38;5;241m=\u001b[39mtimeout)\n\u001b[0;32m    485\u001b[0m \u001b[38;5;28;01mtry\u001b[39;00m:\n\u001b[1;32m--> 486\u001b[0m     resp \u001b[38;5;241m=\u001b[39m conn\u001b[38;5;241m.\u001b[39murlopen(\n\u001b[0;32m    487\u001b[0m         method\u001b[38;5;241m=\u001b[39mrequest\u001b[38;5;241m.\u001b[39mmethod,\n\u001b[0;32m    488\u001b[0m         url\u001b[38;5;241m=\u001b[39murl,\n\u001b[0;32m    489\u001b[0m         body\u001b[38;5;241m=\u001b[39mrequest\u001b[38;5;241m.\u001b[39mbody,\n\u001b[0;32m    490\u001b[0m         headers\u001b[38;5;241m=\u001b[39mrequest\u001b[38;5;241m.\u001b[39mheaders,\n\u001b[0;32m    491\u001b[0m         redirect\u001b[38;5;241m=\u001b[39m\u001b[38;5;28;01mFalse\u001b[39;00m,\n\u001b[0;32m    492\u001b[0m         assert_same_host\u001b[38;5;241m=\u001b[39m\u001b[38;5;28;01mFalse\u001b[39;00m,\n\u001b[0;32m    493\u001b[0m         preload_content\u001b[38;5;241m=\u001b[39m\u001b[38;5;28;01mFalse\u001b[39;00m,\n\u001b[0;32m    494\u001b[0m         decode_content\u001b[38;5;241m=\u001b[39m\u001b[38;5;28;01mFalse\u001b[39;00m,\n\u001b[0;32m    495\u001b[0m         retries\u001b[38;5;241m=\u001b[39m\u001b[38;5;28mself\u001b[39m\u001b[38;5;241m.\u001b[39mmax_retries,\n\u001b[0;32m    496\u001b[0m         timeout\u001b[38;5;241m=\u001b[39mtimeout,\n\u001b[0;32m    497\u001b[0m         chunked\u001b[38;5;241m=\u001b[39mchunked,\n\u001b[0;32m    498\u001b[0m     )\n\u001b[0;32m    500\u001b[0m \u001b[38;5;28;01mexcept\u001b[39;00m (ProtocolError, \u001b[38;5;167;01mOSError\u001b[39;00m) \u001b[38;5;28;01mas\u001b[39;00m err:\n\u001b[0;32m    501\u001b[0m     \u001b[38;5;28;01mraise\u001b[39;00m \u001b[38;5;167;01mConnectionError\u001b[39;00m(err, request\u001b[38;5;241m=\u001b[39mrequest)\n",
      "File \u001b[1;32m~\\anaconda3\\Lib\\site-packages\\urllib3\\connectionpool.py:790\u001b[0m, in \u001b[0;36mHTTPConnectionPool.urlopen\u001b[1;34m(self, method, url, body, headers, retries, redirect, assert_same_host, timeout, pool_timeout, release_conn, chunked, body_pos, preload_content, decode_content, **response_kw)\u001b[0m\n\u001b[0;32m    787\u001b[0m response_conn \u001b[38;5;241m=\u001b[39m conn \u001b[38;5;28;01mif\u001b[39;00m \u001b[38;5;129;01mnot\u001b[39;00m release_conn \u001b[38;5;28;01melse\u001b[39;00m \u001b[38;5;28;01mNone\u001b[39;00m\n\u001b[0;32m    789\u001b[0m \u001b[38;5;66;03m# Make the request on the HTTPConnection object\u001b[39;00m\n\u001b[1;32m--> 790\u001b[0m response \u001b[38;5;241m=\u001b[39m \u001b[38;5;28mself\u001b[39m\u001b[38;5;241m.\u001b[39m_make_request(\n\u001b[0;32m    791\u001b[0m     conn,\n\u001b[0;32m    792\u001b[0m     method,\n\u001b[0;32m    793\u001b[0m     url,\n\u001b[0;32m    794\u001b[0m     timeout\u001b[38;5;241m=\u001b[39mtimeout_obj,\n\u001b[0;32m    795\u001b[0m     body\u001b[38;5;241m=\u001b[39mbody,\n\u001b[0;32m    796\u001b[0m     headers\u001b[38;5;241m=\u001b[39mheaders,\n\u001b[0;32m    797\u001b[0m     chunked\u001b[38;5;241m=\u001b[39mchunked,\n\u001b[0;32m    798\u001b[0m     retries\u001b[38;5;241m=\u001b[39mretries,\n\u001b[0;32m    799\u001b[0m     response_conn\u001b[38;5;241m=\u001b[39mresponse_conn,\n\u001b[0;32m    800\u001b[0m     preload_content\u001b[38;5;241m=\u001b[39mpreload_content,\n\u001b[0;32m    801\u001b[0m     decode_content\u001b[38;5;241m=\u001b[39mdecode_content,\n\u001b[0;32m    802\u001b[0m     \u001b[38;5;241m*\u001b[39m\u001b[38;5;241m*\u001b[39mresponse_kw,\n\u001b[0;32m    803\u001b[0m )\n\u001b[0;32m    805\u001b[0m \u001b[38;5;66;03m# Everything went great!\u001b[39;00m\n\u001b[0;32m    806\u001b[0m clean_exit \u001b[38;5;241m=\u001b[39m \u001b[38;5;28;01mTrue\u001b[39;00m\n",
      "File \u001b[1;32m~\\anaconda3\\Lib\\site-packages\\urllib3\\connectionpool.py:467\u001b[0m, in \u001b[0;36mHTTPConnectionPool._make_request\u001b[1;34m(self, conn, method, url, body, headers, retries, timeout, chunked, response_conn, preload_content, decode_content, enforce_content_length)\u001b[0m\n\u001b[0;32m    464\u001b[0m \u001b[38;5;28;01mtry\u001b[39;00m:\n\u001b[0;32m    465\u001b[0m     \u001b[38;5;66;03m# Trigger any extra validation we need to do.\u001b[39;00m\n\u001b[0;32m    466\u001b[0m     \u001b[38;5;28;01mtry\u001b[39;00m:\n\u001b[1;32m--> 467\u001b[0m         \u001b[38;5;28mself\u001b[39m\u001b[38;5;241m.\u001b[39m_validate_conn(conn)\n\u001b[0;32m    468\u001b[0m     \u001b[38;5;28;01mexcept\u001b[39;00m (SocketTimeout, BaseSSLError) \u001b[38;5;28;01mas\u001b[39;00m e:\n\u001b[0;32m    469\u001b[0m         \u001b[38;5;28mself\u001b[39m\u001b[38;5;241m.\u001b[39m_raise_timeout(err\u001b[38;5;241m=\u001b[39me, url\u001b[38;5;241m=\u001b[39murl, timeout_value\u001b[38;5;241m=\u001b[39mconn\u001b[38;5;241m.\u001b[39mtimeout)\n",
      "File \u001b[1;32m~\\anaconda3\\Lib\\site-packages\\urllib3\\connectionpool.py:1096\u001b[0m, in \u001b[0;36mHTTPSConnectionPool._validate_conn\u001b[1;34m(self, conn)\u001b[0m\n\u001b[0;32m   1094\u001b[0m \u001b[38;5;66;03m# Force connect early to allow us to validate the connection.\u001b[39;00m\n\u001b[0;32m   1095\u001b[0m \u001b[38;5;28;01mif\u001b[39;00m conn\u001b[38;5;241m.\u001b[39mis_closed:\n\u001b[1;32m-> 1096\u001b[0m     conn\u001b[38;5;241m.\u001b[39mconnect()\n\u001b[0;32m   1098\u001b[0m \u001b[38;5;28;01mif\u001b[39;00m \u001b[38;5;129;01mnot\u001b[39;00m conn\u001b[38;5;241m.\u001b[39mis_verified:\n\u001b[0;32m   1099\u001b[0m     warnings\u001b[38;5;241m.\u001b[39mwarn(\n\u001b[0;32m   1100\u001b[0m         (\n\u001b[0;32m   1101\u001b[0m             \u001b[38;5;124mf\u001b[39m\u001b[38;5;124m\"\u001b[39m\u001b[38;5;124mUnverified HTTPS request is being made to host \u001b[39m\u001b[38;5;124m'\u001b[39m\u001b[38;5;132;01m{\u001b[39;00mconn\u001b[38;5;241m.\u001b[39mhost\u001b[38;5;132;01m}\u001b[39;00m\u001b[38;5;124m'\u001b[39m\u001b[38;5;124m. \u001b[39m\u001b[38;5;124m\"\u001b[39m\n\u001b[1;32m   (...)\u001b[0m\n\u001b[0;32m   1106\u001b[0m         InsecureRequestWarning,\n\u001b[0;32m   1107\u001b[0m     )\n",
      "File \u001b[1;32m~\\anaconda3\\Lib\\site-packages\\urllib3\\connection.py:642\u001b[0m, in \u001b[0;36mHTTPSConnection.connect\u001b[1;34m(self)\u001b[0m\n\u001b[0;32m    633\u001b[0m \u001b[38;5;28;01mif\u001b[39;00m is_time_off:\n\u001b[0;32m    634\u001b[0m     warnings\u001b[38;5;241m.\u001b[39mwarn(\n\u001b[0;32m    635\u001b[0m         (\n\u001b[0;32m    636\u001b[0m             \u001b[38;5;124mf\u001b[39m\u001b[38;5;124m\"\u001b[39m\u001b[38;5;124mSystem time is way off (before \u001b[39m\u001b[38;5;132;01m{\u001b[39;00mRECENT_DATE\u001b[38;5;132;01m}\u001b[39;00m\u001b[38;5;124m). This will probably \u001b[39m\u001b[38;5;124m\"\u001b[39m\n\u001b[1;32m   (...)\u001b[0m\n\u001b[0;32m    639\u001b[0m         SystemTimeWarning,\n\u001b[0;32m    640\u001b[0m     )\n\u001b[1;32m--> 642\u001b[0m sock_and_verified \u001b[38;5;241m=\u001b[39m _ssl_wrap_socket_and_match_hostname(\n\u001b[0;32m    643\u001b[0m     sock\u001b[38;5;241m=\u001b[39msock,\n\u001b[0;32m    644\u001b[0m     cert_reqs\u001b[38;5;241m=\u001b[39m\u001b[38;5;28mself\u001b[39m\u001b[38;5;241m.\u001b[39mcert_reqs,\n\u001b[0;32m    645\u001b[0m     ssl_version\u001b[38;5;241m=\u001b[39m\u001b[38;5;28mself\u001b[39m\u001b[38;5;241m.\u001b[39mssl_version,\n\u001b[0;32m    646\u001b[0m     ssl_minimum_version\u001b[38;5;241m=\u001b[39m\u001b[38;5;28mself\u001b[39m\u001b[38;5;241m.\u001b[39mssl_minimum_version,\n\u001b[0;32m    647\u001b[0m     ssl_maximum_version\u001b[38;5;241m=\u001b[39m\u001b[38;5;28mself\u001b[39m\u001b[38;5;241m.\u001b[39mssl_maximum_version,\n\u001b[0;32m    648\u001b[0m     ca_certs\u001b[38;5;241m=\u001b[39m\u001b[38;5;28mself\u001b[39m\u001b[38;5;241m.\u001b[39mca_certs,\n\u001b[0;32m    649\u001b[0m     ca_cert_dir\u001b[38;5;241m=\u001b[39m\u001b[38;5;28mself\u001b[39m\u001b[38;5;241m.\u001b[39mca_cert_dir,\n\u001b[0;32m    650\u001b[0m     ca_cert_data\u001b[38;5;241m=\u001b[39m\u001b[38;5;28mself\u001b[39m\u001b[38;5;241m.\u001b[39mca_cert_data,\n\u001b[0;32m    651\u001b[0m     cert_file\u001b[38;5;241m=\u001b[39m\u001b[38;5;28mself\u001b[39m\u001b[38;5;241m.\u001b[39mcert_file,\n\u001b[0;32m    652\u001b[0m     key_file\u001b[38;5;241m=\u001b[39m\u001b[38;5;28mself\u001b[39m\u001b[38;5;241m.\u001b[39mkey_file,\n\u001b[0;32m    653\u001b[0m     key_password\u001b[38;5;241m=\u001b[39m\u001b[38;5;28mself\u001b[39m\u001b[38;5;241m.\u001b[39mkey_password,\n\u001b[0;32m    654\u001b[0m     server_hostname\u001b[38;5;241m=\u001b[39mserver_hostname,\n\u001b[0;32m    655\u001b[0m     ssl_context\u001b[38;5;241m=\u001b[39m\u001b[38;5;28mself\u001b[39m\u001b[38;5;241m.\u001b[39mssl_context,\n\u001b[0;32m    656\u001b[0m     tls_in_tls\u001b[38;5;241m=\u001b[39mtls_in_tls,\n\u001b[0;32m    657\u001b[0m     assert_hostname\u001b[38;5;241m=\u001b[39m\u001b[38;5;28mself\u001b[39m\u001b[38;5;241m.\u001b[39massert_hostname,\n\u001b[0;32m    658\u001b[0m     assert_fingerprint\u001b[38;5;241m=\u001b[39m\u001b[38;5;28mself\u001b[39m\u001b[38;5;241m.\u001b[39massert_fingerprint,\n\u001b[0;32m    659\u001b[0m )\n\u001b[0;32m    660\u001b[0m \u001b[38;5;28mself\u001b[39m\u001b[38;5;241m.\u001b[39msock \u001b[38;5;241m=\u001b[39m sock_and_verified\u001b[38;5;241m.\u001b[39msocket\n\u001b[0;32m    661\u001b[0m \u001b[38;5;28mself\u001b[39m\u001b[38;5;241m.\u001b[39mis_verified \u001b[38;5;241m=\u001b[39m sock_and_verified\u001b[38;5;241m.\u001b[39mis_verified\n",
      "File \u001b[1;32m~\\anaconda3\\Lib\\site-packages\\urllib3\\connection.py:782\u001b[0m, in \u001b[0;36m_ssl_wrap_socket_and_match_hostname\u001b[1;34m(sock, cert_reqs, ssl_version, ssl_minimum_version, ssl_maximum_version, cert_file, key_file, key_password, ca_certs, ca_cert_dir, ca_cert_data, assert_hostname, assert_fingerprint, server_hostname, ssl_context, tls_in_tls)\u001b[0m\n\u001b[0;32m    779\u001b[0m     \u001b[38;5;28;01mif\u001b[39;00m is_ipaddress(normalized):\n\u001b[0;32m    780\u001b[0m         server_hostname \u001b[38;5;241m=\u001b[39m normalized\n\u001b[1;32m--> 782\u001b[0m ssl_sock \u001b[38;5;241m=\u001b[39m ssl_wrap_socket(\n\u001b[0;32m    783\u001b[0m     sock\u001b[38;5;241m=\u001b[39msock,\n\u001b[0;32m    784\u001b[0m     keyfile\u001b[38;5;241m=\u001b[39mkey_file,\n\u001b[0;32m    785\u001b[0m     certfile\u001b[38;5;241m=\u001b[39mcert_file,\n\u001b[0;32m    786\u001b[0m     key_password\u001b[38;5;241m=\u001b[39mkey_password,\n\u001b[0;32m    787\u001b[0m     ca_certs\u001b[38;5;241m=\u001b[39mca_certs,\n\u001b[0;32m    788\u001b[0m     ca_cert_dir\u001b[38;5;241m=\u001b[39mca_cert_dir,\n\u001b[0;32m    789\u001b[0m     ca_cert_data\u001b[38;5;241m=\u001b[39mca_cert_data,\n\u001b[0;32m    790\u001b[0m     server_hostname\u001b[38;5;241m=\u001b[39mserver_hostname,\n\u001b[0;32m    791\u001b[0m     ssl_context\u001b[38;5;241m=\u001b[39mcontext,\n\u001b[0;32m    792\u001b[0m     tls_in_tls\u001b[38;5;241m=\u001b[39mtls_in_tls,\n\u001b[0;32m    793\u001b[0m )\n\u001b[0;32m    795\u001b[0m \u001b[38;5;28;01mtry\u001b[39;00m:\n\u001b[0;32m    796\u001b[0m     \u001b[38;5;28;01mif\u001b[39;00m assert_fingerprint:\n",
      "File \u001b[1;32m~\\anaconda3\\Lib\\site-packages\\urllib3\\util\\ssl_.py:445\u001b[0m, in \u001b[0;36mssl_wrap_socket\u001b[1;34m(sock, keyfile, certfile, cert_reqs, ca_certs, server_hostname, ssl_version, ciphers, ssl_context, ca_cert_dir, key_password, ca_cert_data, tls_in_tls)\u001b[0m\n\u001b[0;32m    443\u001b[0m \u001b[38;5;28;01mif\u001b[39;00m ca_certs \u001b[38;5;129;01mor\u001b[39;00m ca_cert_dir \u001b[38;5;129;01mor\u001b[39;00m ca_cert_data:\n\u001b[0;32m    444\u001b[0m     \u001b[38;5;28;01mtry\u001b[39;00m:\n\u001b[1;32m--> 445\u001b[0m         context\u001b[38;5;241m.\u001b[39mload_verify_locations(ca_certs, ca_cert_dir, ca_cert_data)\n\u001b[0;32m    446\u001b[0m     \u001b[38;5;28;01mexcept\u001b[39;00m \u001b[38;5;167;01mOSError\u001b[39;00m \u001b[38;5;28;01mas\u001b[39;00m e:\n\u001b[0;32m    447\u001b[0m         \u001b[38;5;28;01mraise\u001b[39;00m SSLError(e) \u001b[38;5;28;01mfrom\u001b[39;00m \u001b[38;5;21;01me\u001b[39;00m\n",
      "\u001b[1;31mKeyboardInterrupt\u001b[0m: "
     ]
    }
   ],
   "source": [
    "import pandas as pd\n",
    "import requests\n",
    "from bs4 import BeautifulSoup\n",
    "\n",
    "# Load the CSV files into pandas dataframes\n",
    "ratings_df = pd.read_csv('ratings.csv')\n",
    "movies_df = pd.read_csv('movies.csv')\n",
    "links_df = pd.read_csv('links.csv')\n",
    "\n",
    "# Group the user ratings based on movieId and apply aggregation operations like count and mean on ratings\n",
    "ratings_grouped = ratings_df.groupby('movieId').agg({'rating': ['count', 'mean']})\n",
    "ratings_grouped.columns = ratings_grouped.columns.map('_'.join)\n",
    "\n",
    "# Apply inner join on dataframe created from movies.csv and the grouped df from step 1\n",
    "joined_df = pd.merge(movies_df, ratings_grouped, left_on='movieId', right_index=True, how='inner')\n",
    "\n",
    "# Filter only those movies which have more than 50 user ratings (i.e. > 50)\n",
    "popular_movies = joined_df[joined_df['rating_count'] > 50]\n",
    "\n",
    "# Merge with links dataframe to get IMDB IDs\n",
    "movies_with_links = pd.merge(popular_movies, links_df, on='movieId', how='inner')\n",
    "\n",
    "# Scrape IMDB reviews (Example, you may need to adjust this based on IMDB website structure)\n",
    "for index, row in movies_with_links.iterrows():\n",
    "    imdb_id = row['imdbId']\n",
    "    movie_title = row['title']\n",
    "    \n",
    "    # Example URL for IMDB reviews\n",
    "    url = f'https://www.imdb.com/title/{imdb_id}/reviews'\n",
    "    \n",
    "    # Send a request to the URL\n",
    "    response = requests.get(url)\n",
    "    \n",
    "    # Check if the request was successful (status code 200)\n",
    "    if response.status_code == 200:\n",
    "        # Parse the HTML content of the page\n",
    "        soup = BeautifulSoup(response.content, 'html.parser')\n",
    "        \n",
    "        # Extract reviews (Example: this might vary based on the website structure)\n",
    "        reviews = soup.find_all('div', class_='text show-more__control')\n",
    "        \n",
    "        # Print or save the reviews as needed\n",
    "        print(f\"Reviews for {movie_title}:\")\n",
    "        for review in reviews:\n",
    "            print(review.text)\n",
    "            \n",
    "        # Save the reviews to a file, database, or any other storage method\n",
    "        # You may need to adjust this based on your requirements\n",
    "\n",
    "    else:\n",
    "        print(f\"Failed to retrieve reviews for {movie_title}. Status Code: {response.status_code}\")\n"
   ]
  },
  {
   "cell_type": "code",
   "execution_count": null,
   "id": "04ff0d1f",
   "metadata": {},
   "outputs": [],
   "source": [
    "import pandas as pd\n",
    "\n",
    "# Load the CSV files into pandas dataframes\n",
    "ratings_df = pd.read_csv('ratings.csv')\n",
    "movies_df = pd.read_csv('movies.csv')\n",
    "links_df = pd.read_csv('links.csv')\n",
    "\n",
    "# Group the user ratings based on movieId and apply aggregation operations like count and mean on ratings\n",
    "ratings_grouped = ratings_df.groupby('movieId').agg({'rating': ['count', 'mean']})\n",
    "ratings_grouped.columns = ratings_grouped.columns.map('_'.join)\n",
    "\n",
    "# Apply inner join on dataframe created from movies.csv and the grouped df from step 1\n",
    "joined_df = pd.merge(movies_df, ratings_grouped, left_on='movieId', right_index=True, how='inner')\n",
    "\n",
    "# Filter only those movies which have more than 50 user ratings (i.e., > 50)\n",
    "popular_movies = joined_df[joined_df['rating_count'] > 50]\n",
    "\n",
    "# Merge with links dataframe to get IMDB IDs\n",
    "movies_with_links = pd.merge(popular_movies, links_df, on='movieId', how='inner')\n",
    "\n",
    "# Scrape IMDb ratings for each movie\n",
    "movies_with_links['imdb_rating'] = movies_with_links['imdbId'].apply(scrapper)\n",
    "\n",
    "# Print or save the resulting dataframe\n",
    "print(movies_with_links[['title', 'rating_count', 'imdb_rating']])\n"
   ]
  },
  {
   "cell_type": "code",
   "execution_count": 37,
   "id": "46cc38a2",
   "metadata": {},
   "outputs": [
    {
     "ename": "NameError",
     "evalue": "name 'scrapper' is not defined",
     "output_type": "error",
     "traceback": [
      "\u001b[1;31m---------------------------------------------------------------------------\u001b[0m",
      "\u001b[1;31mNameError\u001b[0m                                 Traceback (most recent call last)",
      "Cell \u001b[1;32mIn[37], line 22\u001b[0m\n\u001b[0;32m     19\u001b[0m movies_with_links \u001b[38;5;241m=\u001b[39m pd\u001b[38;5;241m.\u001b[39mmerge(popular_movies, links_df, on\u001b[38;5;241m=\u001b[39m\u001b[38;5;124m'\u001b[39m\u001b[38;5;124mmovieId\u001b[39m\u001b[38;5;124m'\u001b[39m, how\u001b[38;5;241m=\u001b[39m\u001b[38;5;124m'\u001b[39m\u001b[38;5;124minner\u001b[39m\u001b[38;5;124m'\u001b[39m)\n\u001b[0;32m     21\u001b[0m \u001b[38;5;66;03m# Scrape IMDb reviews for each movie\u001b[39;00m\n\u001b[1;32m---> 22\u001b[0m movies_with_links[\u001b[38;5;124m'\u001b[39m\u001b[38;5;124mimdb_reviews\u001b[39m\u001b[38;5;124m'\u001b[39m] \u001b[38;5;241m=\u001b[39m movies_with_links[\u001b[38;5;124m'\u001b[39m\u001b[38;5;124mimdbId\u001b[39m\u001b[38;5;124m'\u001b[39m]\u001b[38;5;241m.\u001b[39mapply(scrapper)\n\u001b[0;32m     24\u001b[0m \u001b[38;5;66;03m# Print or save the resulting dataframe\u001b[39;00m\n\u001b[0;32m     25\u001b[0m \u001b[38;5;28mprint\u001b[39m(movies_with_links[[\u001b[38;5;124m'\u001b[39m\u001b[38;5;124mtitle\u001b[39m\u001b[38;5;124m'\u001b[39m, \u001b[38;5;124m'\u001b[39m\u001b[38;5;124mrating_count\u001b[39m\u001b[38;5;124m'\u001b[39m, \u001b[38;5;124m'\u001b[39m\u001b[38;5;124mimdb_reviews\u001b[39m\u001b[38;5;124m'\u001b[39m]])\n",
      "\u001b[1;31mNameError\u001b[0m: name 'scrapper' is not defined"
     ]
    }
   ],
   "source": [
    "import pandas as pd\n",
    "\n",
    "# Load the CSV files into pandas dataframes\n",
    "ratings_df = pd.read_csv('ratings.csv')\n",
    "movies_df = pd.read_csv('movies.csv')\n",
    "links_df = pd.read_csv('links.csv')\n",
    "\n",
    "# Group the user ratings based on movieId and apply aggregation operations like count and mean on ratings\n",
    "ratings_grouped = ratings_df.groupby('movieId').agg({'rating': ['count', 'mean']})\n",
    "ratings_grouped.columns = ratings_grouped.columns.map('_'.join)\n",
    "\n",
    "# Apply inner join on dataframe created from movies.csv and the grouped df from step 1\n",
    "joined_df = pd.merge(movies_df, ratings_grouped, left_on='movieId', right_index=True, how='inner')\n",
    "\n",
    "# Filter only those movies which have more than 50 user ratings (i.e., > 50)\n",
    "popular_movies = joined_df[joined_df['rating_count'] > 50]\n",
    "\n",
    "# Merge with links dataframe to get IMDB IDs\n",
    "movies_with_links = pd.merge(popular_movies, links_df, on='movieId', how='inner')\n",
    "\n",
    "# Scrape IMDb reviews for each movie\n",
    "movies_with_links['imdb_reviews'] = movies_with_links['imdbId'].apply(scrapper)\n",
    "\n",
    "# Print or save the resulting dataframe\n",
    "print(movies_with_links[['title', 'rating_count', 'imdb_reviews']])\n"
   ]
  },
  {
   "cell_type": "code",
   "execution_count": null,
   "id": "a29a1319",
   "metadata": {},
   "outputs": [],
   "source": [
    "import requests\n",
    "import numpy as np\n",
    "from bs4 import BeautifulSoup\n",
    "\n",
    "def scrapper(imdbId):\n",
    "    id = str(int(imdbId))\n",
    "    n_zeroes = 7 - len(id)\n",
    "    new_id = \"0\"*n_zeroes + id\n",
    "    URL = f\"https://www.imdb.com/title/tt{new_id}/\"\n",
    "    request_header = {'Content-Type': 'text/html; charset=UTF-8', \n",
    "                      'User-Agent': 'Mozilla/5.0 (Windows NT 10.0; Win64; x64; rv:109.0) Gecko/20100101 Firefox/119.0', \n",
    "                      'Accept-Encoding': 'gzip, deflate, br'}\n",
    "    response = requests.get(URL, headers=request_header)\n",
    "    soup = BeautifulSoup(response.text, 'html.parser')\n",
    "    imdb_rating = soup.find('span', itemprop='ratingValue')\n",
    "    return imdb_rating.text.strip() if imdb_rating else np.nan\n",
    "\n"
   ]
  },
  {
   "cell_type": "code",
   "execution_count": null,
   "id": "dea76a23",
   "metadata": {},
   "outputs": [],
   "source": [
    "import pandas as pd\n",
    "\n",
    "# Load the CSV files into pandas dataframes\n",
    "ratings_df = pd.read_csv('ratings.csv')\n",
    "movies_df = pd.read_csv('movies.csv')\n",
    "links_df = pd.read_csv('links.csv')\n",
    "\n",
    "# Group the user ratings based on movieId and apply aggregation operations like count and mean on ratings\n",
    "ratings_grouped = ratings_df.groupby('movieId').agg({'rating': ['count', 'mean']})\n",
    "ratings_grouped.columns = ratings_grouped.columns.map('_'.join)\n",
    "\n",
    "# Apply inner join on dataframe created from movies.csv and the grouped df from step 1\n",
    "joined_df = pd.merge(movies_df, ratings_grouped, left_on='movieId', right_index=True, how='inner')\n",
    "\n",
    "# Merge with links dataframe to get IMDB IDs\n",
    "movies_with_links = pd.merge(joined_df, links_df, on='movieId', how='inner')\n",
    "\n",
    "# Scrape IMDb ratings for each movie\n",
    "movies_with_links['imdb_rating'] = movies_with_links['imdbId'].apply(scrapper)\n",
    "\n",
    "# Convert 'imdb_rating' column to numeric (float)\n",
    "movies_with_links['imdb_rating'] = pd.to_numeric(movies_with_links['imdb_rating'], errors='coerce')\n",
    "\n",
    "# Find the movieId of the movie with the highest IMDb rating\n",
    "highest_rated_movie_id = movies_with_links.loc[movies_with_links['imdb_rating'].idxmax(), 'movieId']\n",
    "\n",
    "# Print the result\n",
    "print(f\"The movieId of the movie with the highest IMDb rating is: {highest_rated_movie_id}\")\n"
   ]
  },
  {
   "cell_type": "code",
   "execution_count": null,
   "id": "0fe02327",
   "metadata": {},
   "outputs": [],
   "source": [
    "k"
   ]
  },
  {
   "cell_type": "code",
   "execution_count": null,
   "id": "8a6ec302",
   "metadata": {},
   "outputs": [],
   "source": [
    "import pandas as pd\n",
    "\n",
    "# Load the CSV files into pandas dataframes\n",
    "ratings_df = pd.read_csv('ratings.csv')\n",
    "movies_df = pd.read_csv('movies.csv')\n",
    "links_df = pd.read_csv('links.csv')\n",
    "\n",
    "# Group the user ratings based on movieId and apply aggregation operations like count and mean on ratings\n",
    "ratings_grouped = ratings_df.groupby('movieId').agg({'rating': ['count', 'mean']})\n",
    "ratings_grouped.columns = ratings_grouped.columns.map('_'.join)\n",
    "\n",
    "# Apply inner join on dataframe created from movies.csv and the grouped df from step 1\n",
    "joined_df = pd.merge(movies_df, ratings_grouped, left_on='movieId', right_index=True, how='inner')\n",
    "\n",
    "# Filter only Sci-Fi movies\n",
    "sci_fi_movies = joined_df[joined_df['genres'].str.contains('Sci-Fi')]\n",
    "\n",
    "# Merge with links dataframe to get IMDB IDs\n",
    "movies_with_links = pd.merge(sci_fi_movies, links_df, on='movieId', how='inner')\n",
    "\n",
    "# Scrape IMDb ratings for each Sci-Fi movie\n",
    "movies_with_links['imdb_rating'] = movies_with_links['imdbId'].apply(scrapper)\n",
    "\n",
    "# Convert 'imdb_rating' column to numeric (float)\n",
    "movies_with_links['imdb_rating'] = pd.to_numeric(movies_with_links['imdb_rating'], errors='coerce')\n",
    "\n",
    "# Find the movieId of the Sci-Fi movie with the highest IMDb rating\n",
    "highest_rated_sci_fi_movie_id = movies_with_links.loc[movies_with_links['imdb_rating'].idxmax(), 'movieId']\n",
    "\n",
    "# Print the result\n",
    "print(f\"The movieId of the Sci-Fi movie with the highest IMDb rating is: {highest_rated_sci_fi_movie_id}\")\n"
   ]
  },
  {
   "cell_type": "code",
   "execution_count": null,
   "id": "2f115645",
   "metadata": {},
   "outputs": [],
   "source": []
  }
 ],
 "metadata": {
  "kernelspec": {
   "display_name": "Python 3 (ipykernel)",
   "language": "python",
   "name": "python3"
  },
  "language_info": {
   "codemirror_mode": {
    "name": "ipython",
    "version": 3
   },
   "file_extension": ".py",
   "mimetype": "text/x-python",
   "name": "python",
   "nbconvert_exporter": "python",
   "pygments_lexer": "ipython3",
   "version": "3.11.5"
  }
 },
 "nbformat": 4,
 "nbformat_minor": 5
}
